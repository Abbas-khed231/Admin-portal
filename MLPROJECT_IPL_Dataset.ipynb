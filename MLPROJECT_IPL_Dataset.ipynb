{
  "nbformat": 4,
  "nbformat_minor": 0,
  "metadata": {
    "colab": {
      "provenance": [],
      "include_colab_link": true
    },
    "kernelspec": {
      "name": "python3",
      "display_name": "Python 3"
    },
    "language_info": {
      "name": "python"
    }
  },
  "cells": [
    {
      "cell_type": "markdown",
      "metadata": {
        "id": "view-in-github",
        "colab_type": "text"
      },
      "source": [
        "<a href=\"https://colab.research.google.com/github/Abbas-khed231/Admin-portal/blob/main/MLPROJECT_IPL_Dataset.ipynb\" target=\"_parent\"><img src=\"https://colab.research.google.com/assets/colab-badge.svg\" alt=\"Open In Colab\"/></a>"
      ]
    },
    {
      "cell_type": "markdown",
      "source": [
        "***Importing Required Libraries***"
      ],
      "metadata": {
        "id": "CsEZGMAdEDzK"
      }
    },
    {
      "cell_type": "code",
      "execution_count": 42,
      "metadata": {
        "id": "lt_Qlkpq-kx2"
      },
      "outputs": [],
      "source": [
        "import pandas as pd\n",
        "import numpy as np\n",
        "import seaborn as sns\n",
        "sns.set_style(\"whitegrid\")\n",
        "import matplotlib.pyplot as plt\n",
        "import sklearn"
      ]
    },
    {
      "cell_type": "code",
      "source": [
        "from google.colab import drive\n",
        "drive.mount('/content/drive')"
      ],
      "metadata": {
        "colab": {
          "base_uri": "https://localhost:8080/"
        },
        "id": "baPeL7APyiCX",
        "outputId": "6fbddaef-cc92-477b-86af-41f459ece8f0"
      },
      "execution_count": 87,
      "outputs": [
        {
          "output_type": "stream",
          "name": "stdout",
          "text": [
            "Mounted at /content/drive\n"
          ]
        }
      ]
    },
    {
      "cell_type": "markdown",
      "source": [
        "***Importing Dataset***"
      ],
      "metadata": {
        "id": "ZgbthTPyET_R"
      }
    },
    {
      "cell_type": "code",
      "source": [
        "data=pd.read_csv(\"/content/matches.csv\")"
      ],
      "metadata": {
        "id": "XSqqZTrOC845"
      },
      "execution_count": 43,
      "outputs": []
    },
    {
      "cell_type": "markdown",
      "source": [
        "***Analyzing first 5 rows of the dataset***"
      ],
      "metadata": {
        "id": "zIQzBo0ZEaux"
      }
    },
    {
      "cell_type": "code",
      "source": [
        "data.head()"
      ],
      "metadata": {
        "colab": {
          "base_uri": "https://localhost:8080/",
          "height": 495
        },
        "id": "Bi0yFYIXDGTP",
        "outputId": "7c15770f-67b1-4230-b9b0-d8366d64f4ac"
      },
      "execution_count": 44,
      "outputs": [
        {
          "output_type": "execute_result",
          "data": {
            "text/plain": [
              "   id    Season       city        date                        team1  \\\n",
              "0   1  IPL-2017  Hyderabad  05-04-2017          Sunrisers Hyderabad   \n",
              "1   2  IPL-2017       Pune  06-04-2017               Mumbai Indians   \n",
              "2   3  IPL-2017     Rajkot  07-04-2017                Gujarat Lions   \n",
              "3   4  IPL-2017     Indore  08-04-2017       Rising Pune Supergiant   \n",
              "4   5  IPL-2017  Bangalore  08-04-2017  Royal Challengers Bangalore   \n",
              "\n",
              "                         team2                  toss_winner toss_decision  \\\n",
              "0  Royal Challengers Bangalore  Royal Challengers Bangalore         field   \n",
              "1       Rising Pune Supergiant       Rising Pune Supergiant         field   \n",
              "2        Kolkata Knight Riders        Kolkata Knight Riders         field   \n",
              "3              Kings XI Punjab              Kings XI Punjab         field   \n",
              "4             Delhi Daredevils  Royal Challengers Bangalore           bat   \n",
              "\n",
              "   result  dl_applied                       winner  win_by_runs  \\\n",
              "0  normal           0          Sunrisers Hyderabad           35   \n",
              "1  normal           0       Rising Pune Supergiant            0   \n",
              "2  normal           0        Kolkata Knight Riders            0   \n",
              "3  normal           0              Kings XI Punjab            0   \n",
              "4  normal           0  Royal Challengers Bangalore           15   \n",
              "\n",
              "   win_by_wickets player_of_match                                      venue  \\\n",
              "0               0    Yuvraj Singh  Rajiv Gandhi International Stadium, Uppal   \n",
              "1               7       SPD Smith    Maharashtra Cricket Association Stadium   \n",
              "2              10         CA Lynn     Saurashtra Cricket Association Stadium   \n",
              "3               6      GJ Maxwell                     Holkar Cricket Stadium   \n",
              "4               0       KM Jadhav                      M Chinnaswamy Stadium   \n",
              "\n",
              "          umpire1        umpire2 umpire3  \n",
              "0     AY Dandekar       NJ Llong     NaN  \n",
              "1  A Nand Kishore         S Ravi     NaN  \n",
              "2     Nitin Menon      CK Nandan     NaN  \n",
              "3    AK Chaudhary  C Shamshuddin     NaN  \n",
              "4             NaN            NaN     NaN  "
            ],
            "text/html": [
              "\n",
              "  <div id=\"df-3d707dad-0a51-43ab-9d24-1ef528b8d9a9\">\n",
              "    <div class=\"colab-df-container\">\n",
              "      <div>\n",
              "<style scoped>\n",
              "    .dataframe tbody tr th:only-of-type {\n",
              "        vertical-align: middle;\n",
              "    }\n",
              "\n",
              "    .dataframe tbody tr th {\n",
              "        vertical-align: top;\n",
              "    }\n",
              "\n",
              "    .dataframe thead th {\n",
              "        text-align: right;\n",
              "    }\n",
              "</style>\n",
              "<table border=\"1\" class=\"dataframe\">\n",
              "  <thead>\n",
              "    <tr style=\"text-align: right;\">\n",
              "      <th></th>\n",
              "      <th>id</th>\n",
              "      <th>Season</th>\n",
              "      <th>city</th>\n",
              "      <th>date</th>\n",
              "      <th>team1</th>\n",
              "      <th>team2</th>\n",
              "      <th>toss_winner</th>\n",
              "      <th>toss_decision</th>\n",
              "      <th>result</th>\n",
              "      <th>dl_applied</th>\n",
              "      <th>winner</th>\n",
              "      <th>win_by_runs</th>\n",
              "      <th>win_by_wickets</th>\n",
              "      <th>player_of_match</th>\n",
              "      <th>venue</th>\n",
              "      <th>umpire1</th>\n",
              "      <th>umpire2</th>\n",
              "      <th>umpire3</th>\n",
              "    </tr>\n",
              "  </thead>\n",
              "  <tbody>\n",
              "    <tr>\n",
              "      <th>0</th>\n",
              "      <td>1</td>\n",
              "      <td>IPL-2017</td>\n",
              "      <td>Hyderabad</td>\n",
              "      <td>05-04-2017</td>\n",
              "      <td>Sunrisers Hyderabad</td>\n",
              "      <td>Royal Challengers Bangalore</td>\n",
              "      <td>Royal Challengers Bangalore</td>\n",
              "      <td>field</td>\n",
              "      <td>normal</td>\n",
              "      <td>0</td>\n",
              "      <td>Sunrisers Hyderabad</td>\n",
              "      <td>35</td>\n",
              "      <td>0</td>\n",
              "      <td>Yuvraj Singh</td>\n",
              "      <td>Rajiv Gandhi International Stadium, Uppal</td>\n",
              "      <td>AY Dandekar</td>\n",
              "      <td>NJ Llong</td>\n",
              "      <td>NaN</td>\n",
              "    </tr>\n",
              "    <tr>\n",
              "      <th>1</th>\n",
              "      <td>2</td>\n",
              "      <td>IPL-2017</td>\n",
              "      <td>Pune</td>\n",
              "      <td>06-04-2017</td>\n",
              "      <td>Mumbai Indians</td>\n",
              "      <td>Rising Pune Supergiant</td>\n",
              "      <td>Rising Pune Supergiant</td>\n",
              "      <td>field</td>\n",
              "      <td>normal</td>\n",
              "      <td>0</td>\n",
              "      <td>Rising Pune Supergiant</td>\n",
              "      <td>0</td>\n",
              "      <td>7</td>\n",
              "      <td>SPD Smith</td>\n",
              "      <td>Maharashtra Cricket Association Stadium</td>\n",
              "      <td>A Nand Kishore</td>\n",
              "      <td>S Ravi</td>\n",
              "      <td>NaN</td>\n",
              "    </tr>\n",
              "    <tr>\n",
              "      <th>2</th>\n",
              "      <td>3</td>\n",
              "      <td>IPL-2017</td>\n",
              "      <td>Rajkot</td>\n",
              "      <td>07-04-2017</td>\n",
              "      <td>Gujarat Lions</td>\n",
              "      <td>Kolkata Knight Riders</td>\n",
              "      <td>Kolkata Knight Riders</td>\n",
              "      <td>field</td>\n",
              "      <td>normal</td>\n",
              "      <td>0</td>\n",
              "      <td>Kolkata Knight Riders</td>\n",
              "      <td>0</td>\n",
              "      <td>10</td>\n",
              "      <td>CA Lynn</td>\n",
              "      <td>Saurashtra Cricket Association Stadium</td>\n",
              "      <td>Nitin Menon</td>\n",
              "      <td>CK Nandan</td>\n",
              "      <td>NaN</td>\n",
              "    </tr>\n",
              "    <tr>\n",
              "      <th>3</th>\n",
              "      <td>4</td>\n",
              "      <td>IPL-2017</td>\n",
              "      <td>Indore</td>\n",
              "      <td>08-04-2017</td>\n",
              "      <td>Rising Pune Supergiant</td>\n",
              "      <td>Kings XI Punjab</td>\n",
              "      <td>Kings XI Punjab</td>\n",
              "      <td>field</td>\n",
              "      <td>normal</td>\n",
              "      <td>0</td>\n",
              "      <td>Kings XI Punjab</td>\n",
              "      <td>0</td>\n",
              "      <td>6</td>\n",
              "      <td>GJ Maxwell</td>\n",
              "      <td>Holkar Cricket Stadium</td>\n",
              "      <td>AK Chaudhary</td>\n",
              "      <td>C Shamshuddin</td>\n",
              "      <td>NaN</td>\n",
              "    </tr>\n",
              "    <tr>\n",
              "      <th>4</th>\n",
              "      <td>5</td>\n",
              "      <td>IPL-2017</td>\n",
              "      <td>Bangalore</td>\n",
              "      <td>08-04-2017</td>\n",
              "      <td>Royal Challengers Bangalore</td>\n",
              "      <td>Delhi Daredevils</td>\n",
              "      <td>Royal Challengers Bangalore</td>\n",
              "      <td>bat</td>\n",
              "      <td>normal</td>\n",
              "      <td>0</td>\n",
              "      <td>Royal Challengers Bangalore</td>\n",
              "      <td>15</td>\n",
              "      <td>0</td>\n",
              "      <td>KM Jadhav</td>\n",
              "      <td>M Chinnaswamy Stadium</td>\n",
              "      <td>NaN</td>\n",
              "      <td>NaN</td>\n",
              "      <td>NaN</td>\n",
              "    </tr>\n",
              "  </tbody>\n",
              "</table>\n",
              "</div>\n",
              "      <button class=\"colab-df-convert\" onclick=\"convertToInteractive('df-3d707dad-0a51-43ab-9d24-1ef528b8d9a9')\"\n",
              "              title=\"Convert this dataframe to an interactive table.\"\n",
              "              style=\"display:none;\">\n",
              "        \n",
              "  <svg xmlns=\"http://www.w3.org/2000/svg\" height=\"24px\"viewBox=\"0 0 24 24\"\n",
              "       width=\"24px\">\n",
              "    <path d=\"M0 0h24v24H0V0z\" fill=\"none\"/>\n",
              "    <path d=\"M18.56 5.44l.94 2.06.94-2.06 2.06-.94-2.06-.94-.94-2.06-.94 2.06-2.06.94zm-11 1L8.5 8.5l.94-2.06 2.06-.94-2.06-.94L8.5 2.5l-.94 2.06-2.06.94zm10 10l.94 2.06.94-2.06 2.06-.94-2.06-.94-.94-2.06-.94 2.06-2.06.94z\"/><path d=\"M17.41 7.96l-1.37-1.37c-.4-.4-.92-.59-1.43-.59-.52 0-1.04.2-1.43.59L10.3 9.45l-7.72 7.72c-.78.78-.78 2.05 0 2.83L4 21.41c.39.39.9.59 1.41.59.51 0 1.02-.2 1.41-.59l7.78-7.78 2.81-2.81c.8-.78.8-2.07 0-2.86zM5.41 20L4 18.59l7.72-7.72 1.47 1.35L5.41 20z\"/>\n",
              "  </svg>\n",
              "      </button>\n",
              "      \n",
              "  <style>\n",
              "    .colab-df-container {\n",
              "      display:flex;\n",
              "      flex-wrap:wrap;\n",
              "      gap: 12px;\n",
              "    }\n",
              "\n",
              "    .colab-df-convert {\n",
              "      background-color: #E8F0FE;\n",
              "      border: none;\n",
              "      border-radius: 50%;\n",
              "      cursor: pointer;\n",
              "      display: none;\n",
              "      fill: #1967D2;\n",
              "      height: 32px;\n",
              "      padding: 0 0 0 0;\n",
              "      width: 32px;\n",
              "    }\n",
              "\n",
              "    .colab-df-convert:hover {\n",
              "      background-color: #E2EBFA;\n",
              "      box-shadow: 0px 1px 2px rgba(60, 64, 67, 0.3), 0px 1px 3px 1px rgba(60, 64, 67, 0.15);\n",
              "      fill: #174EA6;\n",
              "    }\n",
              "\n",
              "    [theme=dark] .colab-df-convert {\n",
              "      background-color: #3B4455;\n",
              "      fill: #D2E3FC;\n",
              "    }\n",
              "\n",
              "    [theme=dark] .colab-df-convert:hover {\n",
              "      background-color: #434B5C;\n",
              "      box-shadow: 0px 1px 3px 1px rgba(0, 0, 0, 0.15);\n",
              "      filter: drop-shadow(0px 1px 2px rgba(0, 0, 0, 0.3));\n",
              "      fill: #FFFFFF;\n",
              "    }\n",
              "  </style>\n",
              "\n",
              "      <script>\n",
              "        const buttonEl =\n",
              "          document.querySelector('#df-3d707dad-0a51-43ab-9d24-1ef528b8d9a9 button.colab-df-convert');\n",
              "        buttonEl.style.display =\n",
              "          google.colab.kernel.accessAllowed ? 'block' : 'none';\n",
              "\n",
              "        async function convertToInteractive(key) {\n",
              "          const element = document.querySelector('#df-3d707dad-0a51-43ab-9d24-1ef528b8d9a9');\n",
              "          const dataTable =\n",
              "            await google.colab.kernel.invokeFunction('convertToInteractive',\n",
              "                                                     [key], {});\n",
              "          if (!dataTable) return;\n",
              "\n",
              "          const docLinkHtml = 'Like what you see? Visit the ' +\n",
              "            '<a target=\"_blank\" href=https://colab.research.google.com/notebooks/data_table.ipynb>data table notebook</a>'\n",
              "            + ' to learn more about interactive tables.';\n",
              "          element.innerHTML = '';\n",
              "          dataTable['output_type'] = 'display_data';\n",
              "          await google.colab.output.renderOutput(dataTable, element);\n",
              "          const docLink = document.createElement('div');\n",
              "          docLink.innerHTML = docLinkHtml;\n",
              "          element.appendChild(docLink);\n",
              "        }\n",
              "      </script>\n",
              "    </div>\n",
              "  </div>\n",
              "  "
            ]
          },
          "metadata": {},
          "execution_count": 44
        }
      ]
    },
    {
      "cell_type": "markdown",
      "source": [
        "***Summary of Numerical Attributes***"
      ],
      "metadata": {
        "id": "1sm4-Ip0GZ75"
      }
    },
    {
      "cell_type": "code",
      "source": [
        "|data.describe()"
      ],
      "metadata": {
        "colab": {
          "base_uri": "https://localhost:8080/",
          "height": 130
        },
        "id": "K2cLqhebDIhe",
        "outputId": "b390b93c-a84d-483a-ca91-b4c3c83f0a2c"
      },
      "execution_count": 45,
      "outputs": [
        {
          "output_type": "error",
          "ename": "SyntaxError",
          "evalue": "ignored",
          "traceback": [
            "\u001b[0;36m  File \u001b[0;32m\"<ipython-input-45-9aa3cbc9c564>\"\u001b[0;36m, line \u001b[0;32m1\u001b[0m\n\u001b[0;31m    |data.describe()\u001b[0m\n\u001b[0m    ^\u001b[0m\n\u001b[0;31mSyntaxError\u001b[0m\u001b[0;31m:\u001b[0m invalid syntax\n"
          ]
        }
      ]
    },
    {
      "cell_type": "markdown",
      "source": [
        "***Checking For Null values in the dataset***"
      ],
      "metadata": {
        "id": "qzL4bdecGgKi"
      }
    },
    {
      "cell_type": "code",
      "source": [
        "data.isnull().sum()"
      ],
      "metadata": {
        "colab": {
          "base_uri": "https://localhost:8080/"
        },
        "id": "m7byt0VqDUOH",
        "outputId": "1e1e1a3f-8251-44ab-fa42-3dc2c1b298d2"
      },
      "execution_count": 46,
      "outputs": [
        {
          "output_type": "execute_result",
          "data": {
            "text/plain": [
              "id                   0\n",
              "Season               0\n",
              "city                 7\n",
              "date                 0\n",
              "team1                0\n",
              "team2                0\n",
              "toss_winner          0\n",
              "toss_decision        0\n",
              "result               0\n",
              "dl_applied           0\n",
              "winner               4\n",
              "win_by_runs          0\n",
              "win_by_wickets       0\n",
              "player_of_match      4\n",
              "venue                0\n",
              "umpire1              2\n",
              "umpire2              2\n",
              "umpire3            637\n",
              "dtype: int64"
            ]
          },
          "metadata": {},
          "execution_count": 46
        }
      ]
    },
    {
      "cell_type": "markdown",
      "source": [
        "***Cleaning null values and redundancy.***"
      ],
      "metadata": {
        "id": "58tI9Pnm_hcc"
      }
    },
    {
      "cell_type": "code",
      "source": [
        "data=data.iloc[:,:-1]\n",
        "data.dropna(inplace=True)"
      ],
      "metadata": {
        "id": "w4KNFyTjDegl"
      },
      "execution_count": 47,
      "outputs": []
    },
    {
      "cell_type": "code",
      "source": [
        "data[\"team1\"].unique()"
      ],
      "metadata": {
        "colab": {
          "base_uri": "https://localhost:8080/"
        },
        "id": "_IxwxmFk-iyx",
        "outputId": "189387af-43af-4fb8-edf4-201033009614"
      },
      "execution_count": 48,
      "outputs": [
        {
          "output_type": "execute_result",
          "data": {
            "text/plain": [
              "array(['Sunrisers Hyderabad', 'Mumbai Indians', 'Gujarat Lions',\n",
              "       'Rising Pune Supergiant', 'Kolkata Knight Riders',\n",
              "       'Royal Challengers Bangalore', 'Delhi Daredevils',\n",
              "       'Kings XI Punjab', 'Chennai Super Kings', 'Rajasthan Royals',\n",
              "       'Deccan Chargers', 'Kochi Tuskers Kerala', 'Pune Warriors',\n",
              "       'Rising Pune Supergiants', 'Delhi Capitals'], dtype=object)"
            ]
          },
          "metadata": {},
          "execution_count": 48
        }
      ]
    },
    {
      "cell_type": "code",
      "source": [
        "#for Delhi Capitals\n",
        "data['team1']=data['team1'].str.replace('Delhi Daredevils','Delhi Capitals')\n",
        "data['team2']=data['team2'].str.replace('Delhi Daredevils','Delhi Capitals')\n",
        "data['winner']=data['winner'].str.replace('Delhi Daredevils','Delhi Capitals')"
      ],
      "metadata": {
        "id": "51NCUv9h-3qY"
      },
      "execution_count": 49,
      "outputs": []
    },
    {
      "cell_type": "code",
      "source": [
        "#for Sunrisers Hyderabad\n",
        "data['team1']=data['team1'].str.replace('Deccan Chargers','Sunrisers Hyderabad')\n",
        "data['team2']=data['team2'].str.replace('Deccan Chargers','Sunrisers Hyderabad')\n",
        "data['winner']=data['winner'].str.replace('Deccan Chargers','Sunrisers Hyderabad')"
      ],
      "metadata": {
        "id": "gkS5Rn7CAbIT"
      },
      "execution_count": 50,
      "outputs": []
    },
    {
      "cell_type": "markdown",
      "source": [
        "***Visualizations***"
      ],
      "metadata": {
        "id": "cLWt82QUJK5X"
      }
    },
    {
      "cell_type": "code",
      "source": [
        "#Number of IPL matches won by each team\n",
        "\n",
        "plt.figure(figsize=(10,6))\n",
        "sns.countplot(y='winner',data=data,order=data['winner'].value_counts().index)\n",
        "plt.xlabel('Wins')\n",
        "plt.ylabel('Team')\n",
        "plt.title('Number of IPL matches won by each team')"
      ],
      "metadata": {
        "colab": {
          "base_uri": "https://localhost:8080/",
          "height": 581
        },
        "id": "28V9lEvOAsQw",
        "outputId": "6c9e518a-a56d-450c-ad67-642e63dd3952"
      },
      "execution_count": 51,
      "outputs": [
        {
          "output_type": "execute_result",
          "data": {
            "text/plain": [
              "Text(0.5, 1.0, 'Number of IPL matches won by each team')"
            ]
          },
          "metadata": {},
          "execution_count": 51
        },
        {
          "output_type": "display_data",
          "data": {
            "text/plain": [
              "<Figure size 1000x600 with 1 Axes>"
            ],
            "image/png": "[encoded data removed]"
          },
          "metadata": {}
        }
      ]
    },
    {
      "cell_type": "code",
      "source": [
        "#Decision taken by Toss wiining team\n",
        "\n",
        "plt.figure(figsize=(10,6))\n",
        "sns.countplot(x=\"toss_decision\",data=data)\n",
        "plt.xlabel('Toss Decision',fontsize=12)\n",
        "plt.ylabel('Count',fontsize=12)\n",
        "plt.title('Toss Decision')"
      ],
      "metadata": {
        "colab": {
          "base_uri": "https://localhost:8080/",
          "height": 585
        },
        "id": "GyRj76LOKZcv",
        "outputId": "d1ef8810-bbbd-4a9d-e913-6e4172fccaf7"
      },
      "execution_count": 52,
      "outputs": [
        {
          "output_type": "execute_result",
          "data": {
            "text/plain": [
              "Text(0.5, 1.0, 'Toss Decision')"
            ]
          },
          "metadata": {},
          "execution_count": 52
        },
        {
          "output_type": "display_data",
          "data": {
            "text/plain": [
              "<Figure size 1000x600 with 1 Axes>"
            ],
            "image/png": "[encoded data removed]"
          },
          "metadata": {}
        }
      ]
    },
    {
      "cell_type": "code",
      "source": [
        "data.drop([\"id\",\"Season\",\"city\",\"date\",\"player_of_match\",\"umpire1\",\"umpire2\",\"venue\"],axis=1,inplace=True)"
      ],
      "metadata": {
        "id": "7TYjj5krnbDL"
      },
      "execution_count": 53,
      "outputs": []
    },
    {
      "cell_type": "code",
      "source": [
        "data"
      ],
      "metadata": {
        "id": "qbwiQ2uRQTrk",
        "colab": {
          "base_uri": "https://localhost:8080/",
          "height": 624
        },
        "outputId": "f02f7019-c9e8-4a16-ec2c-0a2933bf6aeb"
      },
      "execution_count": 54,
      "outputs": [
        {
          "output_type": "execute_result",
          "data": {
            "text/plain": [
              "                      team1                        team2  \\\n",
              "0       Sunrisers Hyderabad  Royal Challengers Bangalore   \n",
              "1            Mumbai Indians       Rising Pune Supergiant   \n",
              "2             Gujarat Lions        Kolkata Knight Riders   \n",
              "3    Rising Pune Supergiant              Kings XI Punjab   \n",
              "5             Gujarat Lions          Sunrisers Hyderabad   \n",
              "..                      ...                          ...   \n",
              "750     Chennai Super Kings              Kings XI Punjab   \n",
              "751   Kolkata Knight Riders               Mumbai Indians   \n",
              "752     Chennai Super Kings               Mumbai Indians   \n",
              "754          Delhi Capitals          Chennai Super Kings   \n",
              "755          Mumbai Indians          Chennai Super Kings   \n",
              "\n",
              "                     toss_winner toss_decision  result  dl_applied  \\\n",
              "0    Royal Challengers Bangalore         field  normal           0   \n",
              "1         Rising Pune Supergiant         field  normal           0   \n",
              "2          Kolkata Knight Riders         field  normal           0   \n",
              "3                Kings XI Punjab         field  normal           0   \n",
              "5            Sunrisers Hyderabad         field  normal           0   \n",
              "..                           ...           ...     ...         ...   \n",
              "750              Kings XI Punjab         field  normal           0   \n",
              "751               Mumbai Indians         field  normal           0   \n",
              "752          Chennai Super Kings           bat  normal           0   \n",
              "754          Chennai Super Kings         field  normal           0   \n",
              "755               Mumbai Indians           bat  normal           0   \n",
              "\n",
              "                     winner  win_by_runs  win_by_wickets  \n",
              "0       Sunrisers Hyderabad           35               0  \n",
              "1    Rising Pune Supergiant            0               7  \n",
              "2     Kolkata Knight Riders            0              10  \n",
              "3           Kings XI Punjab            0               6  \n",
              "5       Sunrisers Hyderabad            0               9  \n",
              "..                      ...          ...             ...  \n",
              "750         Kings XI Punjab            0               6  \n",
              "751          Mumbai Indians            0               9  \n",
              "752          Mumbai Indians            0               6  \n",
              "754     Chennai Super Kings            0               6  \n",
              "755          Mumbai Indians            1               0  \n",
              "\n",
              "[743 rows x 9 columns]"
            ],
            "text/html": [
              "\n",
              "  <div id=\"df-a7bde062-eba9-46df-86f5-9801efcc5182\">\n",
              "    <div class=\"colab-df-container\">\n",
              "      <div>\n",
              "<style scoped>\n",
              "    .dataframe tbody tr th:only-of-type {\n",
              "        vertical-align: middle;\n",
              "    }\n",
              "\n",
              "    .dataframe tbody tr th {\n",
              "        vertical-align: top;\n",
              "    }\n",
              "\n",
              "    .dataframe thead th {\n",
              "        text-align: right;\n",
              "    }\n",
              "</style>\n",
              "<table border=\"1\" class=\"dataframe\">\n",
              "  <thead>\n",
              "    <tr style=\"text-align: right;\">\n",
              "      <th></th>\n",
              "      <th>team1</th>\n",
              "      <th>team2</th>\n",
              "      <th>toss_winner</th>\n",
              "      <th>toss_decision</th>\n",
              "      <th>result</th>\n",
              "      <th>dl_applied</th>\n",
              "      <th>winner</th>\n",
              "      <th>win_by_runs</th>\n",
              "      <th>win_by_wickets</th>\n",
              "    </tr>\n",
              "  </thead>\n",
              "  <tbody>\n",
              "    <tr>\n",
              "      <th>0</th>\n",
              "      <td>Sunrisers Hyderabad</td>\n",
              "      <td>Royal Challengers Bangalore</td>\n",
              "      <td>Royal Challengers Bangalore</td>\n",
              "      <td>field</td>\n",
              "      <td>normal</td>\n",
              "      <td>0</td>\n",
              "      <td>Sunrisers Hyderabad</td>\n",
              "      <td>35</td>\n",
              "      <td>0</td>\n",
              "    </tr>\n",
              "    <tr>\n",
              "      <th>1</th>\n",
              "      <td>Mumbai Indians</td>\n",
              "      <td>Rising Pune Supergiant</td>\n",
              "      <td>Rising Pune Supergiant</td>\n",
              "      <td>field</td>\n",
              "      <td>normal</td>\n",
              "      <td>0</td>\n",
              "      <td>Rising Pune Supergiant</td>\n",
              "      <td>0</td>\n",
              "      <td>7</td>\n",
              "    </tr>\n",
              "    <tr>\n",
              "      <th>2</th>\n",
              "      <td>Gujarat Lions</td>\n",
              "      <td>Kolkata Knight Riders</td>\n",
              "      <td>Kolkata Knight Riders</td>\n",
              "      <td>field</td>\n",
              "      <td>normal</td>\n",
              "      <td>0</td>\n",
              "      <td>Kolkata Knight Riders</td>\n",
              "      <td>0</td>\n",
              "      <td>10</td>\n",
              "    </tr>\n",
              "    <tr>\n",
              "      <th>3</th>\n",
              "      <td>Rising Pune Supergiant</td>\n",
              "      <td>Kings XI Punjab</td>\n",
              "      <td>Kings XI Punjab</td>\n",
              "      <td>field</td>\n",
              "      <td>normal</td>\n",
              "      <td>0</td>\n",
              "      <td>Kings XI Punjab</td>\n",
              "      <td>0</td>\n",
              "      <td>6</td>\n",
              "    </tr>\n",
              "    <tr>\n",
              "      <th>5</th>\n",
              "      <td>Gujarat Lions</td>\n",
              "      <td>Sunrisers Hyderabad</td>\n",
              "      <td>Sunrisers Hyderabad</td>\n",
              "      <td>field</td>\n",
              "      <td>normal</td>\n",
              "      <td>0</td>\n",
              "      <td>Sunrisers Hyderabad</td>\n",
              "      <td>0</td>\n",
              "      <td>9</td>\n",
              "    </tr>\n",
              "    <tr>\n",
              "      <th>...</th>\n",
              "      <td>...</td>\n",
              "      <td>...</td>\n",
              "      <td>...</td>\n",
              "      <td>...</td>\n",
              "      <td>...</td>\n",
              "      <td>...</td>\n",
              "      <td>...</td>\n",
              "      <td>...</td>\n",
              "      <td>...</td>\n",
              "    </tr>\n",
              "    <tr>\n",
              "      <th>750</th>\n",
              "      <td>Chennai Super Kings</td>\n",
              "      <td>Kings XI Punjab</td>\n",
              "      <td>Kings XI Punjab</td>\n",
              "      <td>field</td>\n",
              "      <td>normal</td>\n",
              "      <td>0</td>\n",
              "      <td>Kings XI Punjab</td>\n",
              "      <td>0</td>\n",
              "      <td>6</td>\n",
              "    </tr>\n",
              "    <tr>\n",
              "      <th>751</th>\n",
              "      <td>Kolkata Knight Riders</td>\n",
              "      <td>Mumbai Indians</td>\n",
              "      <td>Mumbai Indians</td>\n",
              "      <td>field</td>\n",
              "      <td>normal</td>\n",
              "      <td>0</td>\n",
              "      <td>Mumbai Indians</td>\n",
              "      <td>0</td>\n",
              "      <td>9</td>\n",
              "    </tr>\n",
              "    <tr>\n",
              "      <th>752</th>\n",
              "      <td>Chennai Super Kings</td>\n",
              "      <td>Mumbai Indians</td>\n",
              "      <td>Chennai Super Kings</td>\n",
              "      <td>bat</td>\n",
              "      <td>normal</td>\n",
              "      <td>0</td>\n",
              "      <td>Mumbai Indians</td>\n",
              "      <td>0</td>\n",
              "      <td>6</td>\n",
              "    </tr>\n",
              "    <tr>\n",
              "      <th>754</th>\n",
              "      <td>Delhi Capitals</td>\n",
              "      <td>Chennai Super Kings</td>\n",
              "      <td>Chennai Super Kings</td>\n",
              "      <td>field</td>\n",
              "      <td>normal</td>\n",
              "      <td>0</td>\n",
              "      <td>Chennai Super Kings</td>\n",
              "      <td>0</td>\n",
              "      <td>6</td>\n",
              "    </tr>\n",
              "    <tr>\n",
              "      <th>755</th>\n",
              "      <td>Mumbai Indians</td>\n",
              "      <td>Chennai Super Kings</td>\n",
              "      <td>Mumbai Indians</td>\n",
              "      <td>bat</td>\n",
              "      <td>normal</td>\n",
              "      <td>0</td>\n",
              "      <td>Mumbai Indians</td>\n",
              "      <td>1</td>\n",
              "      <td>0</td>\n",
              "    </tr>\n",
              "  </tbody>\n",
              "</table>\n",
              "<p>743 rows × 9 columns</p>\n",
              "</div>\n",
              "      <button class=\"colab-df-convert\" onclick=\"convertToInteractive('df-a7bde062-eba9-46df-86f5-9801efcc5182')\"\n",
              "              title=\"Convert this dataframe to an interactive table.\"\n",
              "              style=\"display:none;\">\n",
              "        \n",
              "  <svg xmlns=\"http://www.w3.org/2000/svg\" height=\"24px\"viewBox=\"0 0 24 24\"\n",
              "       width=\"24px\">\n",
              "    <path d=\"M0 0h24v24H0V0z\" fill=\"none\"/>\n",
              "    <path d=\"M18.56 5.44l.94 2.06.94-2.06 2.06-.94-2.06-.94-.94-2.06-.94 2.06-2.06.94zm-11 1L8.5 8.5l.94-2.06 2.06-.94-2.06-.94L8.5 2.5l-.94 2.06-2.06.94zm10 10l.94 2.06.94-2.06 2.06-.94-2.06-.94-.94-2.06-.94 2.06-2.06.94z\"/><path d=\"M17.41 7.96l-1.37-1.37c-.4-.4-.92-.59-1.43-.59-.52 0-1.04.2-1.43.59L10.3 9.45l-7.72 7.72c-.78.78-.78 2.05 0 2.83L4 21.41c.39.39.9.59 1.41.59.51 0 1.02-.2 1.41-.59l7.78-7.78 2.81-2.81c.8-.78.8-2.07 0-2.86zM5.41 20L4 18.59l7.72-7.72 1.47 1.35L5.41 20z\"/>\n",
              "  </svg>\n",
              "      </button>\n",
              "      \n",
              "  <style>\n",
              "    .colab-df-container {\n",
              "      display:flex;\n",
              "      flex-wrap:wrap;\n",
              "      gap: 12px;\n",
              "    }\n",
              "\n",
              "    .colab-df-convert {\n",
              "      background-color: #E8F0FE;\n",
              "      border: none;\n",
              "      border-radius: 50%;\n",
              "      cursor: pointer;\n",
              "      display: none;\n",
              "      fill: #1967D2;\n",
              "      height: 32px;\n",
              "      padding: 0 0 0 0;\n",
              "      width: 32px;\n",
              "    }\n",
              "\n",
              "    .colab-df-convert:hover {\n",
              "      background-color: #E2EBFA;\n",
              "      box-shadow: 0px 1px 2px rgba(60, 64, 67, 0.3), 0px 1px 3px 1px rgba(60, 64, 67, 0.15);\n",
              "      fill: #174EA6;\n",
              "    }\n",
              "\n",
              "    [theme=dark] .colab-df-convert {\n",
              "      background-color: #3B4455;\n",
              "      fill: #D2E3FC;\n",
              "    }\n",
              "\n",
              "    [theme=dark] .colab-df-convert:hover {\n",
              "      background-color: #434B5C;\n",
              "      box-shadow: 0px 1px 3px 1px rgba(0, 0, 0, 0.15);\n",
              "      filter: drop-shadow(0px 1px 2px rgba(0, 0, 0, 0.3));\n",
              "      fill: #FFFFFF;\n",
              "    }\n",
              "  </style>\n",
              "\n",
              "      <script>\n",
              "        const buttonEl =\n",
              "          document.querySelector('#df-a7bde062-eba9-46df-86f5-9801efcc5182 button.colab-df-convert');\n",
              "        buttonEl.style.display =\n",
              "          google.colab.kernel.accessAllowed ? 'block' : 'none';\n",
              "\n",
              "        async function convertToInteractive(key) {\n",
              "          const element = document.querySelector('#df-a7bde062-eba9-46df-86f5-9801efcc5182');\n",
              "          const dataTable =\n",
              "            await google.colab.kernel.invokeFunction('convertToInteractive',\n",
              "                                                     [key], {});\n",
              "          if (!dataTable) return;\n",
              "\n",
              "          const docLinkHtml = 'Like what you see? Visit the ' +\n",
              "            '<a target=\"_blank\" href=https://colab.research.google.com/notebooks/data_table.ipynb>data table notebook</a>'\n",
              "            + ' to learn more about interactive tables.';\n",
              "          element.innerHTML = '';\n",
              "          dataTable['output_type'] = 'display_data';\n",
              "          await google.colab.output.renderOutput(dataTable, element);\n",
              "          const docLink = document.createElement('div');\n",
              "          docLink.innerHTML = docLinkHtml;\n",
              "          element.appendChild(docLink);\n",
              "        }\n",
              "      </script>\n",
              "    </div>\n",
              "  </div>\n",
              "  "
            ]
          },
          "metadata": {},
          "execution_count": 54
        }
      ]
    },
    {
      "cell_type": "markdown",
      "source": [
        "***Splitting input and output data(dependent & independent)***"
      ],
      "metadata": {
        "id": "SRayz6ZTrHLG"
      }
    },
    {
      "cell_type": "code",
      "source": [
        "X=data.drop([\"winner\"],axis=1)\n",
        "y=data[\"winner\"]"
      ],
      "metadata": {
        "id": "cYLOjPzWqtnT"
      },
      "execution_count": 55,
      "outputs": []
    },
    {
      "cell_type": "markdown",
      "source": [
        "***Setting dummy variables for training***"
      ],
      "metadata": {
        "id": "r_F9WEJErYX9"
      }
    },
    {
      "cell_type": "code",
      "source": [
        "X=pd.get_dummies(X,[\"team1\",\"team2\",\"toss_winner\",\"toss_decision\",\"result\"],drop_first=True)"
      ],
      "metadata": {
        "id": "3iUszX0JrXmk"
      },
      "execution_count": 56,
      "outputs": []
    },
    {
      "cell_type": "code",
      "source": [
        "X\n"
      ],
      "metadata": {
        "colab": {
          "base_uri": "https://localhost:8080/",
          "height": 522
        },
        "id": "yLNExKT7rwkx",
        "outputId": "f4de7d1d-b557-49ed-dc56-9702957e4d4e"
      },
      "execution_count": 57,
      "outputs": [
        {
          "output_type": "execute_result",
          "data": {
            "text/plain": [
              "     dl_applied  win_by_runs  win_by_wickets  team1_Delhi Capitals  \\\n",
              "0             0           35               0                     0   \n",
              "1             0            0               7                     0   \n",
              "2             0            0              10                     0   \n",
              "3             0            0               6                     0   \n",
              "5             0            0               9                     0   \n",
              "..          ...          ...             ...                   ...   \n",
              "750           0            0               6                     0   \n",
              "751           0            0               9                     0   \n",
              "752           0            0               6                     0   \n",
              "754           0            0               6                     1   \n",
              "755           0            1               0                     0   \n",
              "\n",
              "     team1_Gujarat Lions  team1_Kings XI Punjab  team1_Kochi Tuskers Kerala  \\\n",
              "0                      0                      0                           0   \n",
              "1                      0                      0                           0   \n",
              "2                      1                      0                           0   \n",
              "3                      0                      0                           0   \n",
              "5                      1                      0                           0   \n",
              "..                   ...                    ...                         ...   \n",
              "750                    0                      0                           0   \n",
              "751                    0                      0                           0   \n",
              "752                    0                      0                           0   \n",
              "754                    0                      0                           0   \n",
              "755                    0                      0                           0   \n",
              "\n",
              "     team1_Kolkata Knight Riders  team1_Mumbai Indians  team1_Pune Warriors  \\\n",
              "0                              0                     0                    0   \n",
              "1                              0                     1                    0   \n",
              "2                              0                     0                    0   \n",
              "3                              0                     0                    0   \n",
              "5                              0                     0                    0   \n",
              "..                           ...                   ...                  ...   \n",
              "750                            0                     0                    0   \n",
              "751                            1                     0                    0   \n",
              "752                            0                     0                    0   \n",
              "754                            0                     0                    0   \n",
              "755                            0                     1                    0   \n",
              "\n",
              "     ...  toss_winner_Kolkata Knight Riders  toss_winner_Mumbai Indians  \\\n",
              "0    ...                                  0                           0   \n",
              "1    ...                                  0                           0   \n",
              "2    ...                                  1                           0   \n",
              "3    ...                                  0                           0   \n",
              "5    ...                                  0                           0   \n",
              "..   ...                                ...                         ...   \n",
              "750  ...                                  0                           0   \n",
              "751  ...                                  0                           1   \n",
              "752  ...                                  0                           0   \n",
              "754  ...                                  0                           0   \n",
              "755  ...                                  0                           1   \n",
              "\n",
              "     toss_winner_Pune Warriors  toss_winner_Rajasthan Royals  \\\n",
              "0                            0                             0   \n",
              "1                            0                             0   \n",
              "2                            0                             0   \n",
              "3                            0                             0   \n",
              "5                            0                             0   \n",
              "..                         ...                           ...   \n",
              "750                          0                             0   \n",
              "751                          0                             0   \n",
              "752                          0                             0   \n",
              "754                          0                             0   \n",
              "755                          0                             0   \n",
              "\n",
              "     toss_winner_Rising Pune Supergiant  toss_winner_Rising Pune Supergiants  \\\n",
              "0                                     0                                    0   \n",
              "1                                     1                                    0   \n",
              "2                                     0                                    0   \n",
              "3                                     0                                    0   \n",
              "5                                     0                                    0   \n",
              "..                                  ...                                  ...   \n",
              "750                                   0                                    0   \n",
              "751                                   0                                    0   \n",
              "752                                   0                                    0   \n",
              "754                                   0                                    0   \n",
              "755                                   0                                    0   \n",
              "\n",
              "     toss_winner_Royal Challengers Bangalore  toss_winner_Sunrisers Hyderabad  \\\n",
              "0                                          1                                0   \n",
              "1                                          0                                0   \n",
              "2                                          0                                0   \n",
              "3                                          0                                0   \n",
              "5                                          0                                1   \n",
              "..                                       ...                              ...   \n",
              "750                                        0                                0   \n",
              "751                                        0                                0   \n",
              "752                                        0                                0   \n",
              "754                                        0                                0   \n",
              "755                                        0                                0   \n",
              "\n",
              "     toss_decision_field  result_tie  \n",
              "0                      1           0  \n",
              "1                      1           0  \n",
              "2                      1           0  \n",
              "3                      1           0  \n",
              "5                      1           0  \n",
              "..                   ...         ...  \n",
              "750                    1           0  \n",
              "751                    1           0  \n",
              "752                    0           0  \n",
              "754                    1           0  \n",
              "755                    0           0  \n",
              "\n",
              "[743 rows x 43 columns]"
            ],
            "text/html": [
              "\n",
              "  <div id=\"df-834922bf-7ef6-4711-be55-58b5e2bac010\">\n",
              "    <div class=\"colab-df-container\">\n",
              "      <div>\n",
              "<style scoped>\n",
              "    .dataframe tbody tr th:only-of-type {\n",
              "        vertical-align: middle;\n",
              "    }\n",
              "\n",
              "    .dataframe tbody tr th {\n",
              "        vertical-align: top;\n",
              "    }\n",
              "\n",
              "    .dataframe thead th {\n",
              "        text-align: right;\n",
              "    }\n",
              "</style>\n",
              "<table border=\"1\" class=\"dataframe\">\n",
              "  <thead>\n",
              "    <tr style=\"text-align: right;\">\n",
              "      <th></th>\n",
              "      <th>dl_applied</th>\n",
              "      <th>win_by_runs</th>\n",
              "      <th>win_by_wickets</th>\n",
              "      <th>team1_Delhi Capitals</th>\n",
              "      <th>team1_Gujarat Lions</th>\n",
              "      <th>team1_Kings XI Punjab</th>\n",
              "      <th>team1_Kochi Tuskers Kerala</th>\n",
              "      <th>team1_Kolkata Knight Riders</th>\n",
              "      <th>team1_Mumbai Indians</th>\n",
              "      <th>team1_Pune Warriors</th>\n",
              "      <th>...</th>\n",
              "      <th>toss_winner_Kolkata Knight Riders</th>\n",
              "      <th>toss_winner_Mumbai Indians</th>\n",
              "      <th>toss_winner_Pune Warriors</th>\n",
              "      <th>toss_winner_Rajasthan Royals</th>\n",
              "      <th>toss_winner_Rising Pune Supergiant</th>\n",
              "      <th>toss_winner_Rising Pune Supergiants</th>\n",
              "      <th>toss_winner_Royal Challengers Bangalore</th>\n",
              "      <th>toss_winner_Sunrisers Hyderabad</th>\n",
              "      <th>toss_decision_field</th>\n",
              "      <th>result_tie</th>\n",
              "    </tr>\n",
              "  </thead>\n",
              "  <tbody>\n",
              "    <tr>\n",
              "      <th>0</th>\n",
              "      <td>0</td>\n",
              "      <td>35</td>\n",
              "      <td>0</td>\n",
              "      <td>0</td>\n",
              "      <td>0</td>\n",
              "      <td>0</td>\n",
              "      <td>0</td>\n",
              "      <td>0</td>\n",
              "      <td>0</td>\n",
              "      <td>0</td>\n",
              "      <td>...</td>\n",
              "      <td>0</td>\n",
              "      <td>0</td>\n",
              "      <td>0</td>\n",
              "      <td>0</td>\n",
              "      <td>0</td>\n",
              "      <td>0</td>\n",
              "      <td>1</td>\n",
              "      <td>0</td>\n",
              "      <td>1</td>\n",
              "      <td>0</td>\n",
              "    </tr>\n",
              "    <tr>\n",
              "      <th>1</th>\n",
              "      <td>0</td>\n",
              "      <td>0</td>\n",
              "      <td>7</td>\n",
              "      <td>0</td>\n",
              "      <td>0</td>\n",
              "      <td>0</td>\n",
              "      <td>0</td>\n",
              "      <td>0</td>\n",
              "      <td>1</td>\n",
              "      <td>0</td>\n",
              "      <td>...</td>\n",
              "      <td>0</td>\n",
              "      <td>0</td>\n",
              "      <td>0</td>\n",
              "      <td>0</td>\n",
              "      <td>1</td>\n",
              "      <td>0</td>\n",
              "      <td>0</td>\n",
              "      <td>0</td>\n",
              "      <td>1</td>\n",
              "      <td>0</td>\n",
              "    </tr>\n",
              "    <tr>\n",
              "      <th>2</th>\n",
              "      <td>0</td>\n",
              "      <td>0</td>\n",
              "      <td>10</td>\n",
              "      <td>0</td>\n",
              "      <td>1</td>\n",
              "      <td>0</td>\n",
              "      <td>0</td>\n",
              "      <td>0</td>\n",
              "      <td>0</td>\n",
              "      <td>0</td>\n",
              "      <td>...</td>\n",
              "      <td>1</td>\n",
              "      <td>0</td>\n",
              "      <td>0</td>\n",
              "      <td>0</td>\n",
              "      <td>0</td>\n",
              "      <td>0</td>\n",
              "      <td>0</td>\n",
              "      <td>0</td>\n",
              "      <td>1</td>\n",
              "      <td>0</td>\n",
              "    </tr>\n",
              "    <tr>\n",
              "      <th>3</th>\n",
              "      <td>0</td>\n",
              "      <td>0</td>\n",
              "      <td>6</td>\n",
              "      <td>0</td>\n",
              "      <td>0</td>\n",
              "      <td>0</td>\n",
              "      <td>0</td>\n",
              "      <td>0</td>\n",
              "      <td>0</td>\n",
              "      <td>0</td>\n",
              "      <td>...</td>\n",
              "      <td>0</td>\n",
              "      <td>0</td>\n",
              "      <td>0</td>\n",
              "      <td>0</td>\n",
              "      <td>0</td>\n",
              "      <td>0</td>\n",
              "      <td>0</td>\n",
              "      <td>0</td>\n",
              "      <td>1</td>\n",
              "      <td>0</td>\n",
              "    </tr>\n",
              "    <tr>\n",
              "      <th>5</th>\n",
              "      <td>0</td>\n",
              "      <td>0</td>\n",
              "      <td>9</td>\n",
              "      <td>0</td>\n",
              "      <td>1</td>\n",
              "      <td>0</td>\n",
              "      <td>0</td>\n",
              "      <td>0</td>\n",
              "      <td>0</td>\n",
              "      <td>0</td>\n",
              "      <td>...</td>\n",
              "      <td>0</td>\n",
              "      <td>0</td>\n",
              "      <td>0</td>\n",
              "      <td>0</td>\n",
              "      <td>0</td>\n",
              "      <td>0</td>\n",
              "      <td>0</td>\n",
              "      <td>1</td>\n",
              "      <td>1</td>\n",
              "      <td>0</td>\n",
              "    </tr>\n",
              "    <tr>\n",
              "      <th>...</th>\n",
              "      <td>...</td>\n",
              "      <td>...</td>\n",
              "      <td>...</td>\n",
              "      <td>...</td>\n",
              "      <td>...</td>\n",
              "      <td>...</td>\n",
              "      <td>...</td>\n",
              "      <td>...</td>\n",
              "      <td>...</td>\n",
              "      <td>...</td>\n",
              "      <td>...</td>\n",
              "      <td>...</td>\n",
              "      <td>...</td>\n",
              "      <td>...</td>\n",
              "      <td>...</td>\n",
              "      <td>...</td>\n",
              "      <td>...</td>\n",
              "      <td>...</td>\n",
              "      <td>...</td>\n",
              "      <td>...</td>\n",
              "      <td>...</td>\n",
              "    </tr>\n",
              "    <tr>\n",
              "      <th>750</th>\n",
              "      <td>0</td>\n",
              "      <td>0</td>\n",
              "      <td>6</td>\n",
              "      <td>0</td>\n",
              "      <td>0</td>\n",
              "      <td>0</td>\n",
              "      <td>0</td>\n",
              "      <td>0</td>\n",
              "      <td>0</td>\n",
              "      <td>0</td>\n",
              "      <td>...</td>\n",
              "      <td>0</td>\n",
              "      <td>0</td>\n",
              "      <td>0</td>\n",
              "      <td>0</td>\n",
              "      <td>0</td>\n",
              "      <td>0</td>\n",
              "      <td>0</td>\n",
              "      <td>0</td>\n",
              "      <td>1</td>\n",
              "      <td>0</td>\n",
              "    </tr>\n",
              "    <tr>\n",
              "      <th>751</th>\n",
              "      <td>0</td>\n",
              "      <td>0</td>\n",
              "      <td>9</td>\n",
              "      <td>0</td>\n",
              "      <td>0</td>\n",
              "      <td>0</td>\n",
              "      <td>0</td>\n",
              "      <td>1</td>\n",
              "      <td>0</td>\n",
              "      <td>0</td>\n",
              "      <td>...</td>\n",
              "      <td>0</td>\n",
              "      <td>1</td>\n",
              "      <td>0</td>\n",
              "      <td>0</td>\n",
              "      <td>0</td>\n",
              "      <td>0</td>\n",
              "      <td>0</td>\n",
              "      <td>0</td>\n",
              "      <td>1</td>\n",
              "      <td>0</td>\n",
              "    </tr>\n",
              "    <tr>\n",
              "      <th>752</th>\n",
              "      <td>0</td>\n",
              "      <td>0</td>\n",
              "      <td>6</td>\n",
              "      <td>0</td>\n",
              "      <td>0</td>\n",
              "      <td>0</td>\n",
              "      <td>0</td>\n",
              "      <td>0</td>\n",
              "      <td>0</td>\n",
              "      <td>0</td>\n",
              "      <td>...</td>\n",
              "      <td>0</td>\n",
              "      <td>0</td>\n",
              "      <td>0</td>\n",
              "      <td>0</td>\n",
              "      <td>0</td>\n",
              "      <td>0</td>\n",
              "      <td>0</td>\n",
              "      <td>0</td>\n",
              "      <td>0</td>\n",
              "      <td>0</td>\n",
              "    </tr>\n",
              "    <tr>\n",
              "      <th>754</th>\n",
              "      <td>0</td>\n",
              "      <td>0</td>\n",
              "      <td>6</td>\n",
              "      <td>1</td>\n",
              "      <td>0</td>\n",
              "      <td>0</td>\n",
              "      <td>0</td>\n",
              "      <td>0</td>\n",
              "      <td>0</td>\n",
              "      <td>0</td>\n",
              "      <td>...</td>\n",
              "      <td>0</td>\n",
              "      <td>0</td>\n",
              "      <td>0</td>\n",
              "      <td>0</td>\n",
              "      <td>0</td>\n",
              "      <td>0</td>\n",
              "      <td>0</td>\n",
              "      <td>0</td>\n",
              "      <td>1</td>\n",
              "      <td>0</td>\n",
              "    </tr>\n",
              "    <tr>\n",
              "      <th>755</th>\n",
              "      <td>0</td>\n",
              "      <td>1</td>\n",
              "      <td>0</td>\n",
              "      <td>0</td>\n",
              "      <td>0</td>\n",
              "      <td>0</td>\n",
              "      <td>0</td>\n",
              "      <td>0</td>\n",
              "      <td>1</td>\n",
              "      <td>0</td>\n",
              "      <td>...</td>\n",
              "      <td>0</td>\n",
              "      <td>1</td>\n",
              "      <td>0</td>\n",
              "      <td>0</td>\n",
              "      <td>0</td>\n",
              "      <td>0</td>\n",
              "      <td>0</td>\n",
              "      <td>0</td>\n",
              "      <td>0</td>\n",
              "      <td>0</td>\n",
              "    </tr>\n",
              "  </tbody>\n",
              "</table>\n",
              "<p>743 rows × 43 columns</p>\n",
              "</div>\n",
              "      <button class=\"colab-df-convert\" onclick=\"convertToInteractive('df-834922bf-7ef6-4711-be55-58b5e2bac010')\"\n",
              "              title=\"Convert this dataframe to an interactive table.\"\n",
              "              style=\"display:none;\">\n",
              "        \n",
              "  <svg xmlns=\"http://www.w3.org/2000/svg\" height=\"24px\"viewBox=\"0 0 24 24\"\n",
              "       width=\"24px\">\n",
              "    <path d=\"M0 0h24v24H0V0z\" fill=\"none\"/>\n",
              "    <path d=\"M18.56 5.44l.94 2.06.94-2.06 2.06-.94-2.06-.94-.94-2.06-.94 2.06-2.06.94zm-11 1L8.5 8.5l.94-2.06 2.06-.94-2.06-.94L8.5 2.5l-.94 2.06-2.06.94zm10 10l.94 2.06.94-2.06 2.06-.94-2.06-.94-.94-2.06-.94 2.06-2.06.94z\"/><path d=\"M17.41 7.96l-1.37-1.37c-.4-.4-.92-.59-1.43-.59-.52 0-1.04.2-1.43.59L10.3 9.45l-7.72 7.72c-.78.78-.78 2.05 0 2.83L4 21.41c.39.39.9.59 1.41.59.51 0 1.02-.2 1.41-.59l7.78-7.78 2.81-2.81c.8-.78.8-2.07 0-2.86zM5.41 20L4 18.59l7.72-7.72 1.47 1.35L5.41 20z\"/>\n",
              "  </svg>\n",
              "      </button>\n",
              "      \n",
              "  <style>\n",
              "    .colab-df-container {\n",
              "      display:flex;\n",
              "      flex-wrap:wrap;\n",
              "      gap: 12px;\n",
              "    }\n",
              "\n",
              "    .colab-df-convert {\n",
              "      background-color: #E8F0FE;\n",
              "      border: none;\n",
              "      border-radius: 50%;\n",
              "      cursor: pointer;\n",
              "      display: none;\n",
              "      fill: #1967D2;\n",
              "      height: 32px;\n",
              "      padding: 0 0 0 0;\n",
              "      width: 32px;\n",
              "    }\n",
              "\n",
              "    .colab-df-convert:hover {\n",
              "      background-color: #E2EBFA;\n",
              "      box-shadow: 0px 1px 2px rgba(60, 64, 67, 0.3), 0px 1px 3px 1px rgba(60, 64, 67, 0.15);\n",
              "      fill: #174EA6;\n",
              "    }\n",
              "\n",
              "    [theme=dark] .colab-df-convert {\n",
              "      background-color: #3B4455;\n",
              "      fill: #D2E3FC;\n",
              "    }\n",
              "\n",
              "    [theme=dark] .colab-df-convert:hover {\n",
              "      background-color: #434B5C;\n",
              "      box-shadow: 0px 1px 3px 1px rgba(0, 0, 0, 0.15);\n",
              "      filter: drop-shadow(0px 1px 2px rgba(0, 0, 0, 0.3));\n",
              "      fill: #FFFFFF;\n",
              "    }\n",
              "  </style>\n",
              "\n",
              "      <script>\n",
              "        const buttonEl =\n",
              "          document.querySelector('#df-834922bf-7ef6-4711-be55-58b5e2bac010 button.colab-df-convert');\n",
              "        buttonEl.style.display =\n",
              "          google.colab.kernel.accessAllowed ? 'block' : 'none';\n",
              "\n",
              "        async function convertToInteractive(key) {\n",
              "          const element = document.querySelector('#df-834922bf-7ef6-4711-be55-58b5e2bac010');\n",
              "          const dataTable =\n",
              "            await google.colab.kernel.invokeFunction('convertToInteractive',\n",
              "                                                     [key], {});\n",
              "          if (!dataTable) return;\n",
              "\n",
              "          const docLinkHtml = 'Like what you see? Visit the ' +\n",
              "            '<a target=\"_blank\" href=https://colab.research.google.com/notebooks/data_table.ipynb>data table notebook</a>'\n",
              "            + ' to learn more about interactive tables.';\n",
              "          element.innerHTML = '';\n",
              "          dataTable['output_type'] = 'display_data';\n",
              "          await google.colab.output.renderOutput(dataTable, element);\n",
              "          const docLink = document.createElement('div');\n",
              "          docLink.innerHTML = docLinkHtml;\n",
              "          element.appendChild(docLink);\n",
              "        }\n",
              "      </script>\n",
              "    </div>\n",
              "  </div>\n",
              "  "
            ]
          },
          "metadata": {},
          "execution_count": 57
        }
      ]
    },
    {
      "cell_type": "code",
      "source": [
        "X.describe()"
      ],
      "metadata": {
        "colab": {
          "base_uri": "https://localhost:8080/",
          "height": 428
        },
        "id": "bgsCf9B6ryyO",
        "outputId": "a2e0813b-0b3f-4627-9959-30a721847135"
      },
      "execution_count": 58,
      "outputs": [
        {
          "output_type": "execute_result",
          "data": {
            "text/plain": [
              "       dl_applied  win_by_runs  win_by_wickets  team1_Delhi Capitals  \\\n",
              "count  743.000000   743.000000      743.000000            743.000000   \n",
              "mean     0.025572    13.460296        3.375505              0.102288   \n",
              "std      0.157961    23.626205        3.393397              0.303231   \n",
              "min      0.000000     0.000000        0.000000              0.000000   \n",
              "25%      0.000000     0.000000        0.000000              0.000000   \n",
              "50%      0.000000     0.000000        4.000000              0.000000   \n",
              "75%      0.000000    19.000000        6.000000              0.000000   \n",
              "max      1.000000   146.000000       10.000000              1.000000   \n",
              "\n",
              "       team1_Gujarat Lions  team1_Kings XI Punjab  team1_Kochi Tuskers Kerala  \\\n",
              "count           743.000000             743.000000                  743.000000   \n",
              "mean              0.018843               0.122476                    0.009421   \n",
              "std               0.136060               0.328056                    0.096670   \n",
              "min               0.000000               0.000000                    0.000000   \n",
              "25%               0.000000               0.000000                    0.000000   \n",
              "50%               0.000000               0.000000                    0.000000   \n",
              "75%               0.000000               0.000000                    0.000000   \n",
              "max               1.000000               1.000000                    1.000000   \n",
              "\n",
              "       team1_Kolkata Knight Riders  team1_Mumbai Indians  team1_Pune Warriors  \\\n",
              "count                   743.000000            743.000000           743.000000   \n",
              "mean                      0.110363              0.133244             0.026918   \n",
              "std                       0.313553              0.340067             0.161953   \n",
              "min                       0.000000              0.000000             0.000000   \n",
              "25%                       0.000000              0.000000             0.000000   \n",
              "50%                       0.000000              0.000000             0.000000   \n",
              "75%                       0.000000              0.000000             0.000000   \n",
              "max                       1.000000              1.000000             1.000000   \n",
              "\n",
              "       ...  toss_winner_Kolkata Knight Riders  toss_winner_Mumbai Indians  \\\n",
              "count  ...                         743.000000                  743.000000   \n",
              "mean   ...                           0.122476                    0.129206   \n",
              "std    ...                           0.328056                    0.335654   \n",
              "min    ...                           0.000000                    0.000000   \n",
              "25%    ...                           0.000000                    0.000000   \n",
              "50%    ...                           0.000000                    0.000000   \n",
              "75%    ...                           0.000000                    0.000000   \n",
              "max    ...                           1.000000                    1.000000   \n",
              "\n",
              "       toss_winner_Pune Warriors  toss_winner_Rajasthan Royals  \\\n",
              "count                 743.000000                    743.000000   \n",
              "mean                    0.026918                      0.103634   \n",
              "std                     0.161953                      0.304990   \n",
              "min                     0.000000                      0.000000   \n",
              "25%                     0.000000                      0.000000   \n",
              "50%                     0.000000                      0.000000   \n",
              "75%                     0.000000                      0.000000   \n",
              "max                     1.000000                      1.000000   \n",
              "\n",
              "       toss_winner_Rising Pune Supergiant  \\\n",
              "count                          743.000000   \n",
              "mean                             0.008075   \n",
              "std                              0.089560   \n",
              "min                              0.000000   \n",
              "25%                              0.000000   \n",
              "50%                              0.000000   \n",
              "75%                              0.000000   \n",
              "max                              1.000000   \n",
              "\n",
              "       toss_winner_Rising Pune Supergiants  \\\n",
              "count                           743.000000   \n",
              "mean                              0.009421   \n",
              "std                               0.096670   \n",
              "min                               0.000000   \n",
              "25%                               0.000000   \n",
              "50%                               0.000000   \n",
              "75%                               0.000000   \n",
              "max                               1.000000   \n",
              "\n",
              "       toss_winner_Royal Challengers Bangalore  \\\n",
              "count                               743.000000   \n",
              "mean                                  0.104980   \n",
              "std                                   0.306734   \n",
              "min                                   0.000000   \n",
              "25%                                   0.000000   \n",
              "50%                                   0.000000   \n",
              "75%                                   0.000000   \n",
              "max                                   1.000000   \n",
              "\n",
              "       toss_winner_Sunrisers Hyderabad  toss_decision_field  result_tie  \n",
              "count                       743.000000           743.000000  743.000000  \n",
              "mean                          0.060565             0.612382    0.012113  \n",
              "std                           0.238692             0.487535    0.109464  \n",
              "min                           0.000000             0.000000    0.000000  \n",
              "25%                           0.000000             0.000000    0.000000  \n",
              "50%                           0.000000             1.000000    0.000000  \n",
              "75%                           0.000000             1.000000    0.000000  \n",
              "max                           1.000000             1.000000    1.000000  \n",
              "\n",
              "[8 rows x 43 columns]"
            ],
            "text/html": [
              "\n",
              "  <div id=\"df-fddfd2cf-cf97-4523-afac-4e56e42857e9\">\n",
              "    <div class=\"colab-df-container\">\n",
              "      <div>\n",
              "<style scoped>\n",
              "    .dataframe tbody tr th:only-of-type {\n",
              "        vertical-align: middle;\n",
              "    }\n",
              "\n",
              "    .dataframe tbody tr th {\n",
              "        vertical-align: top;\n",
              "    }\n",
              "\n",
              "    .dataframe thead th {\n",
              "        text-align: right;\n",
              "    }\n",
              "</style>\n",
              "<table border=\"1\" class=\"dataframe\">\n",
              "  <thead>\n",
              "    <tr style=\"text-align: right;\">\n",
              "      <th></th>\n",
              "      <th>dl_applied</th>\n",
              "      <th>win_by_runs</th>\n",
              "      <th>win_by_wickets</th>\n",
              "      <th>team1_Delhi Capitals</th>\n",
              "      <th>team1_Gujarat Lions</th>\n",
              "      <th>team1_Kings XI Punjab</th>\n",
              "      <th>team1_Kochi Tuskers Kerala</th>\n",
              "      <th>team1_Kolkata Knight Riders</th>\n",
              "      <th>team1_Mumbai Indians</th>\n",
              "      <th>team1_Pune Warriors</th>\n",
              "      <th>...</th>\n",
              "      <th>toss_winner_Kolkata Knight Riders</th>\n",
              "      <th>toss_winner_Mumbai Indians</th>\n",
              "      <th>toss_winner_Pune Warriors</th>\n",
              "      <th>toss_winner_Rajasthan Royals</th>\n",
              "      <th>toss_winner_Rising Pune Supergiant</th>\n",
              "      <th>toss_winner_Rising Pune Supergiants</th>\n",
              "      <th>toss_winner_Royal Challengers Bangalore</th>\n",
              "      <th>toss_winner_Sunrisers Hyderabad</th>\n",
              "      <th>toss_decision_field</th>\n",
              "      <th>result_tie</th>\n",
              "    </tr>\n",
              "  </thead>\n",
              "  <tbody>\n",
              "    <tr>\n",
              "      <th>count</th>\n",
              "      <td>743.000000</td>\n",
              "      <td>743.000000</td>\n",
              "      <td>743.000000</td>\n",
              "      <td>743.000000</td>\n",
              "      <td>743.000000</td>\n",
              "      <td>743.000000</td>\n",
              "      <td>743.000000</td>\n",
              "      <td>743.000000</td>\n",
              "      <td>743.000000</td>\n",
              "      <td>743.000000</td>\n",
              "      <td>...</td>\n",
              "      <td>743.000000</td>\n",
              "      <td>743.000000</td>\n",
              "      <td>743.000000</td>\n",
              "      <td>743.000000</td>\n",
              "      <td>743.000000</td>\n",
              "      <td>743.000000</td>\n",
              "      <td>743.000000</td>\n",
              "      <td>743.000000</td>\n",
              "      <td>743.000000</td>\n",
              "      <td>743.000000</td>\n",
              "    </tr>\n",
              "    <tr>\n",
              "      <th>mean</th>\n",
              "      <td>0.025572</td>\n",
              "      <td>13.460296</td>\n",
              "      <td>3.375505</td>\n",
              "      <td>0.102288</td>\n",
              "      <td>0.018843</td>\n",
              "      <td>0.122476</td>\n",
              "      <td>0.009421</td>\n",
              "      <td>0.110363</td>\n",
              "      <td>0.133244</td>\n",
              "      <td>0.026918</td>\n",
              "      <td>...</td>\n",
              "      <td>0.122476</td>\n",
              "      <td>0.129206</td>\n",
              "      <td>0.026918</td>\n",
              "      <td>0.103634</td>\n",
              "      <td>0.008075</td>\n",
              "      <td>0.009421</td>\n",
              "      <td>0.104980</td>\n",
              "      <td>0.060565</td>\n",
              "      <td>0.612382</td>\n",
              "      <td>0.012113</td>\n",
              "    </tr>\n",
              "    <tr>\n",
              "      <th>std</th>\n",
              "      <td>0.157961</td>\n",
              "      <td>23.626205</td>\n",
              "      <td>3.393397</td>\n",
              "      <td>0.303231</td>\n",
              "      <td>0.136060</td>\n",
              "      <td>0.328056</td>\n",
              "      <td>0.096670</td>\n",
              "      <td>0.313553</td>\n",
              "      <td>0.340067</td>\n",
              "      <td>0.161953</td>\n",
              "      <td>...</td>\n",
              "      <td>0.328056</td>\n",
              "      <td>0.335654</td>\n",
              "      <td>0.161953</td>\n",
              "      <td>0.304990</td>\n",
              "      <td>0.089560</td>\n",
              "      <td>0.096670</td>\n",
              "      <td>0.306734</td>\n",
              "      <td>0.238692</td>\n",
              "      <td>0.487535</td>\n",
              "      <td>0.109464</td>\n",
              "    </tr>\n",
              "    <tr>\n",
              "      <th>min</th>\n",
              "      <td>0.000000</td>\n",
              "      <td>0.000000</td>\n",
              "      <td>0.000000</td>\n",
              "      <td>0.000000</td>\n",
              "      <td>0.000000</td>\n",
              "      <td>0.000000</td>\n",
              "      <td>0.000000</td>\n",
              "      <td>0.000000</td>\n",
              "      <td>0.000000</td>\n",
              "      <td>0.000000</td>\n",
              "      <td>...</td>\n",
              "      <td>0.000000</td>\n",
              "      <td>0.000000</td>\n",
              "      <td>0.000000</td>\n",
              "      <td>0.000000</td>\n",
              "      <td>0.000000</td>\n",
              "      <td>0.000000</td>\n",
              "      <td>0.000000</td>\n",
              "      <td>0.000000</td>\n",
              "      <td>0.000000</td>\n",
              "      <td>0.000000</td>\n",
              "    </tr>\n",
              "    <tr>\n",
              "      <th>25%</th>\n",
              "      <td>0.000000</td>\n",
              "      <td>0.000000</td>\n",
              "      <td>0.000000</td>\n",
              "      <td>0.000000</td>\n",
              "      <td>0.000000</td>\n",
              "      <td>0.000000</td>\n",
              "      <td>0.000000</td>\n",
              "      <td>0.000000</td>\n",
              "      <td>0.000000</td>\n",
              "      <td>0.000000</td>\n",
              "      <td>...</td>\n",
              "      <td>0.000000</td>\n",
              "      <td>0.000000</td>\n",
              "      <td>0.000000</td>\n",
              "      <td>0.000000</td>\n",
              "      <td>0.000000</td>\n",
              "      <td>0.000000</td>\n",
              "      <td>0.000000</td>\n",
              "      <td>0.000000</td>\n",
              "      <td>0.000000</td>\n",
              "      <td>0.000000</td>\n",
              "    </tr>\n",
              "    <tr>\n",
              "      <th>50%</th>\n",
              "      <td>0.000000</td>\n",
              "      <td>0.000000</td>\n",
              "      <td>4.000000</td>\n",
              "      <td>0.000000</td>\n",
              "      <td>0.000000</td>\n",
              "      <td>0.000000</td>\n",
              "      <td>0.000000</td>\n",
              "      <td>0.000000</td>\n",
              "      <td>0.000000</td>\n",
              "      <td>0.000000</td>\n",
              "      <td>...</td>\n",
              "      <td>0.000000</td>\n",
              "      <td>0.000000</td>\n",
              "      <td>0.000000</td>\n",
              "      <td>0.000000</td>\n",
              "      <td>0.000000</td>\n",
              "      <td>0.000000</td>\n",
              "      <td>0.000000</td>\n",
              "      <td>0.000000</td>\n",
              "      <td>1.000000</td>\n",
              "      <td>0.000000</td>\n",
              "    </tr>\n",
              "    <tr>\n",
              "      <th>75%</th>\n",
              "      <td>0.000000</td>\n",
              "      <td>19.000000</td>\n",
              "      <td>6.000000</td>\n",
              "      <td>0.000000</td>\n",
              "      <td>0.000000</td>\n",
              "      <td>0.000000</td>\n",
              "      <td>0.000000</td>\n",
              "      <td>0.000000</td>\n",
              "      <td>0.000000</td>\n",
              "      <td>0.000000</td>\n",
              "      <td>...</td>\n",
              "      <td>0.000000</td>\n",
              "      <td>0.000000</td>\n",
              "      <td>0.000000</td>\n",
              "      <td>0.000000</td>\n",
              "      <td>0.000000</td>\n",
              "      <td>0.000000</td>\n",
              "      <td>0.000000</td>\n",
              "      <td>0.000000</td>\n",
              "      <td>1.000000</td>\n",
              "      <td>0.000000</td>\n",
              "    </tr>\n",
              "    <tr>\n",
              "      <th>max</th>\n",
              "      <td>1.000000</td>\n",
              "      <td>146.000000</td>\n",
              "      <td>10.000000</td>\n",
              "      <td>1.000000</td>\n",
              "      <td>1.000000</td>\n",
              "      <td>1.000000</td>\n",
              "      <td>1.000000</td>\n",
              "      <td>1.000000</td>\n",
              "      <td>1.000000</td>\n",
              "      <td>1.000000</td>\n",
              "      <td>...</td>\n",
              "      <td>1.000000</td>\n",
              "      <td>1.000000</td>\n",
              "      <td>1.000000</td>\n",
              "      <td>1.000000</td>\n",
              "      <td>1.000000</td>\n",
              "      <td>1.000000</td>\n",
              "      <td>1.000000</td>\n",
              "      <td>1.000000</td>\n",
              "      <td>1.000000</td>\n",
              "      <td>1.000000</td>\n",
              "    </tr>\n",
              "  </tbody>\n",
              "</table>\n",
              "<p>8 rows × 43 columns</p>\n",
              "</div>\n",
              "      <button class=\"colab-df-convert\" onclick=\"convertToInteractive('df-fddfd2cf-cf97-4523-afac-4e56e42857e9')\"\n",
              "              title=\"Convert this dataframe to an interactive table.\"\n",
              "              style=\"display:none;\">\n",
              "        \n",
              "  <svg xmlns=\"http://www.w3.org/2000/svg\" height=\"24px\"viewBox=\"0 0 24 24\"\n",
              "       width=\"24px\">\n",
              "    <path d=\"M0 0h24v24H0V0z\" fill=\"none\"/>\n",
              "    <path d=\"M18.56 5.44l.94 2.06.94-2.06 2.06-.94-2.06-.94-.94-2.06-.94 2.06-2.06.94zm-11 1L8.5 8.5l.94-2.06 2.06-.94-2.06-.94L8.5 2.5l-.94 2.06-2.06.94zm10 10l.94 2.06.94-2.06 2.06-.94-2.06-.94-.94-2.06-.94 2.06-2.06.94z\"/><path d=\"M17.41 7.96l-1.37-1.37c-.4-.4-.92-.59-1.43-.59-.52 0-1.04.2-1.43.59L10.3 9.45l-7.72 7.72c-.78.78-.78 2.05 0 2.83L4 21.41c.39.39.9.59 1.41.59.51 0 1.02-.2 1.41-.59l7.78-7.78 2.81-2.81c.8-.78.8-2.07 0-2.86zM5.41 20L4 18.59l7.72-7.72 1.47 1.35L5.41 20z\"/>\n",
              "  </svg>\n",
              "      </button>\n",
              "      \n",
              "  <style>\n",
              "    .colab-df-container {\n",
              "      display:flex;\n",
              "      flex-wrap:wrap;\n",
              "      gap: 12px;\n",
              "    }\n",
              "\n",
              "    .colab-df-convert {\n",
              "      background-color: #E8F0FE;\n",
              "      border: none;\n",
              "      border-radius: 50%;\n",
              "      cursor: pointer;\n",
              "      display: none;\n",
              "      fill: #1967D2;\n",
              "      height: 32px;\n",
              "      padding: 0 0 0 0;\n",
              "      width: 32px;\n",
              "    }\n",
              "\n",
              "    .colab-df-convert:hover {\n",
              "      background-color: #E2EBFA;\n",
              "      box-shadow: 0px 1px 2px rgba(60, 64, 67, 0.3), 0px 1px 3px 1px rgba(60, 64, 67, 0.15);\n",
              "      fill: #174EA6;\n",
              "    }\n",
              "\n",
              "    [theme=dark] .colab-df-convert {\n",
              "      background-color: #3B4455;\n",
              "      fill: #D2E3FC;\n",
              "    }\n",
              "\n",
              "    [theme=dark] .colab-df-convert:hover {\n",
              "      background-color: #434B5C;\n",
              "      box-shadow: 0px 1px 3px 1px rgba(0, 0, 0, 0.15);\n",
              "      filter: drop-shadow(0px 1px 2px rgba(0, 0, 0, 0.3));\n",
              "      fill: #FFFFFF;\n",
              "    }\n",
              "  </style>\n",
              "\n",
              "      <script>\n",
              "        const buttonEl =\n",
              "          document.querySelector('#df-fddfd2cf-cf97-4523-afac-4e56e42857e9 button.colab-df-convert');\n",
              "        buttonEl.style.display =\n",
              "          google.colab.kernel.accessAllowed ? 'block' : 'none';\n",
              "\n",
              "        async function convertToInteractive(key) {\n",
              "          const element = document.querySelector('#df-fddfd2cf-cf97-4523-afac-4e56e42857e9');\n",
              "          const dataTable =\n",
              "            await google.colab.kernel.invokeFunction('convertToInteractive',\n",
              "                                                     [key], {});\n",
              "          if (!dataTable) return;\n",
              "\n",
              "          const docLinkHtml = 'Like what you see? Visit the ' +\n",
              "            '<a target=\"_blank\" href=https://colab.research.google.com/notebooks/data_table.ipynb>data table notebook</a>'\n",
              "            + ' to learn more about interactive tables.';\n",
              "          element.innerHTML = '';\n",
              "          dataTable['output_type'] = 'display_data';\n",
              "          await google.colab.output.renderOutput(dataTable, element);\n",
              "          const docLink = document.createElement('div');\n",
              "          docLink.innerHTML = docLinkHtml;\n",
              "          element.appendChild(docLink);\n",
              "        }\n",
              "      </script>\n",
              "    </div>\n",
              "  </div>\n",
              "  "
            ]
          },
          "metadata": {},
          "execution_count": 58
        }
      ]
    },
    {
      "cell_type": "markdown",
      "source": [
        "***Converting categorical values into numericals***"
      ],
      "metadata": {
        "id": "zLG9uvHqsV6Q"
      }
    },
    {
      "cell_type": "code",
      "source": [
        "from sklearn.preprocessing import LabelEncoder\n",
        "le=LabelEncoder()\n",
        "y=le.fit_transform(y)"
      ],
      "metadata": {
        "id": "PmUj5g2-r555"
      },
      "execution_count": 59,
      "outputs": []
    },
    {
      "cell_type": "markdown",
      "source": [
        "***Splitting the data for training and testing***"
      ],
      "metadata": {
        "id": "bcz3Njc8s_KH"
      }
    },
    {
      "cell_type": "code",
      "source": [
        "from sklearn.model_selection import train_test_split\n",
        "X_train,X_test,y_train,y_test=train_test_split(X,y,test_size=0.2)"
      ],
      "metadata": {
        "id": "IVD7FQcwspsZ"
      },
      "execution_count": 60,
      "outputs": []
    },
    {
      "cell_type": "code",
      "source": [
        "X_train.shape"
      ],
      "metadata": {
        "colab": {
          "base_uri": "https://localhost:8080/"
        },
        "id": "i8afHySxtw6W",
        "outputId": "012d3dc0-f2b1-45ba-93f9-118da63da91f"
      },
      "execution_count": 61,
      "outputs": [
        {
          "output_type": "execute_result",
          "data": {
            "text/plain": [
              "(594, 43)"
            ]
          },
          "metadata": {},
          "execution_count": 61
        }
      ]
    },
    {
      "cell_type": "code",
      "source": [
        "X_test.shape"
      ],
      "metadata": {
        "colab": {
          "base_uri": "https://localhost:8080/"
        },
        "id": "np-4jFu3t-yI",
        "outputId": "cd1dac59-c1de-4a88-fcc5-7d1870bd7f0d"
      },
      "execution_count": 62,
      "outputs": [
        {
          "output_type": "execute_result",
          "data": {
            "text/plain": [
              "(149, 43)"
            ]
          },
          "metadata": {},
          "execution_count": 62
        }
      ]
    },
    {
      "cell_type": "code",
      "source": [
        "y_train.shape"
      ],
      "metadata": {
        "colab": {
          "base_uri": "https://localhost:8080/"
        },
        "id": "6afir4DkudKx",
        "outputId": "c85ca70d-f604-4bd6-e16b-438a2617315c"
      },
      "execution_count": 63,
      "outputs": [
        {
          "output_type": "execute_result",
          "data": {
            "text/plain": [
              "(594,)"
            ]
          },
          "metadata": {},
          "execution_count": 63
        }
      ]
    },
    {
      "cell_type": "code",
      "source": [
        "y_test.shape"
      ],
      "metadata": {
        "colab": {
          "base_uri": "https://localhost:8080/"
        },
        "id": "0HSWgxu2uezv",
        "outputId": "d21be895-ab74-4c41-c967-cbb31de59ca8"
      },
      "execution_count": 64,
      "outputs": [
        {
          "output_type": "execute_result",
          "data": {
            "text/plain": [
              "(149,)"
            ]
          },
          "metadata": {},
          "execution_count": 64
        }
      ]
    },
    {
      "cell_type": "markdown",
      "source": [
        "***Model Creation and Evaluation***"
      ],
      "metadata": {
        "id": "V-1UkGx1zz3i"
      }
    },
    {
      "cell_type": "code",
      "source": [
        "from sklearn.metrics import classification_report,confusion_matrix,accuracy_score\n"
      ],
      "metadata": {
        "id": "44-_-nxUkzXX"
      },
      "execution_count": 65,
      "outputs": []
    },
    {
      "cell_type": "markdown",
      "source": [
        "***Logistic Regression***"
      ],
      "metadata": {
        "id": "lIg6avq10Iqa"
      }
    },
    {
      "cell_type": "code",
      "source": [
        "#creating the model\n",
        "from sklearn.linear_model import LogisticRegression\n",
        "lr=LogisticRegression()\n",
        "lr.fit(X_train,y_train)"
      ],
      "metadata": {
        "id": "AUlusBmtug7l",
        "colab": {
          "base_uri": "https://localhost:8080/",
          "height": 213
        },
        "outputId": "4b7172ac-de6a-46cc-eb82-7f4e3f880ce6"
      },
      "execution_count": 66,
      "outputs": [
        {
          "output_type": "stream",
          "name": "stderr",
          "text": [
            "/usr/local/lib/python3.10/dist-packages/sklearn/linear_model/_logistic.py:458: ConvergenceWarning: lbfgs failed to converge (status=1):\n",
            "STOP: TOTAL NO. of ITERATIONS REACHED LIMIT.\n",
            "\n",
            "Increase the number of iterations (max_iter) or scale the data as shown in:\n",
            "    https://scikit-learn.org/stable/modules/preprocessing.html\n",
            "Please also refer to the documentation for alternative solver options:\n",
            "    https://scikit-learn.org/stable/modules/linear_model.html#logistic-regression\n",
            "  n_iter_i = _check_optimize_result(\n"
          ]
        },
        {
          "output_type": "execute_result",
          "data": {
            "text/plain": [
              "LogisticRegression()"
            ],
            "text/html": [
              "<style>#sk-container-id-6 {color: black;background-color: white;}#sk-container-id-6 pre{padding: 0;}#sk-container-id-6 div.sk-toggleable {background-color: white;}#sk-container-id-6 label.sk-toggleable__label {cursor: pointer;display: block;width: 100%;margin-bottom: 0;padding: 0.3em;box-sizing: border-box;text-align: center;}#sk-container-id-6 label.sk-toggleable__label-arrow:before {content: \"▸\";float: left;margin-right: 0.25em;color: #696969;}#sk-container-id-6 label.sk-toggleable__label-arrow:hover:before {color: black;}#sk-container-id-6 div.sk-estimator:hover label.sk-toggleable__label-arrow:before {color: black;}#sk-container-id-6 div.sk-toggleable__content {max-height: 0;max-width: 0;overflow: hidden;text-align: left;background-color: #f0f8ff;}#sk-container-id-6 div.sk-toggleable__content pre {margin: 0.2em;color: black;border-radius: 0.25em;background-color: #f0f8ff;}#sk-container-id-6 input.sk-toggleable__control:checked~div.sk-toggleable__content {max-height: 200px;max-width: 100%;overflow: auto;}#sk-container-id-6 input.sk-toggleable__control:checked~label.sk-toggleable__label-arrow:before {content: \"▾\";}#sk-container-id-6 div.sk-estimator input.sk-toggleable__control:checked~label.sk-toggleable__label {background-color: #d4ebff;}#sk-container-id-6 div.sk-label input.sk-toggleable__control:checked~label.sk-toggleable__label {background-color: #d4ebff;}#sk-container-id-6 input.sk-hidden--visually {border: 0;clip: rect(1px 1px 1px 1px);clip: rect(1px, 1px, 1px, 1px);height: 1px;margin: -1px;overflow: hidden;padding: 0;position: absolute;width: 1px;}#sk-container-id-6 div.sk-estimator {font-family: monospace;background-color: #f0f8ff;border: 1px dotted black;border-radius: 0.25em;box-sizing: border-box;margin-bottom: 0.5em;}#sk-container-id-6 div.sk-estimator:hover {background-color: #d4ebff;}#sk-container-id-6 div.sk-parallel-item::after {content: \"\";width: 100%;border-bottom: 1px solid gray;flex-grow: 1;}#sk-container-id-6 div.sk-label:hover label.sk-toggleable__label {background-color: #d4ebff;}#sk-container-id-6 div.sk-serial::before {content: \"\";position: absolute;border-left: 1px solid gray;box-sizing: border-box;top: 0;bottom: 0;left: 50%;z-index: 0;}#sk-container-id-6 div.sk-serial {display: flex;flex-direction: column;align-items: center;background-color: white;padding-right: 0.2em;padding-left: 0.2em;position: relative;}#sk-container-id-6 div.sk-item {position: relative;z-index: 1;}#sk-container-id-6 div.sk-parallel {display: flex;align-items: stretch;justify-content: center;background-color: white;position: relative;}#sk-container-id-6 div.sk-item::before, #sk-container-id-6 div.sk-parallel-item::before {content: \"\";position: absolute;border-left: 1px solid gray;box-sizing: border-box;top: 0;bottom: 0;left: 50%;z-index: -1;}#sk-container-id-6 div.sk-parallel-item {display: flex;flex-direction: column;z-index: 1;position: relative;background-color: white;}#sk-container-id-6 div.sk-parallel-item:first-child::after {align-self: flex-end;width: 50%;}#sk-container-id-6 div.sk-parallel-item:last-child::after {align-self: flex-start;width: 50%;}#sk-container-id-6 div.sk-parallel-item:only-child::after {width: 0;}#sk-container-id-6 div.sk-dashed-wrapped {border: 1px dashed gray;margin: 0 0.4em 0.5em 0.4em;box-sizing: border-box;padding-bottom: 0.4em;background-color: white;}#sk-container-id-6 div.sk-label label {font-family: monospace;font-weight: bold;display: inline-block;line-height: 1.2em;}#sk-container-id-6 div.sk-label-container {text-align: center;}#sk-container-id-6 div.sk-container {/* jupyter's `normalize.less` sets `[hidden] { display: none; }` but bootstrap.min.css set `[hidden] { display: none !important; }` so we also need the `!important` here to be able to override the default hidden behavior on the sphinx rendered scikit-learn.org. See: https://github.com/scikit-learn/scikit-learn/issues/21755 */display: inline-block !important;position: relative;}#sk-container-id-6 div.sk-text-repr-fallback {display: none;}</style><div id=\"sk-container-id-6\" class=\"sk-top-container\"><div class=\"sk-text-repr-fallback\"><pre>LogisticRegression()</pre><b>In a Jupyter environment, please rerun this cell to show the HTML representation or trust the notebook. <br />On GitHub, the HTML representation is unable to render, please try loading this page with nbviewer.org.</b></div><div class=\"sk-container\" hidden><div class=\"sk-item\"><div class=\"sk-estimator sk-toggleable\"><input class=\"sk-toggleable__control sk-hidden--visually\" id=\"sk-estimator-id-6\" type=\"checkbox\" checked><label for=\"sk-estimator-id-6\" class=\"sk-toggleable__label sk-toggleable__label-arrow\">LogisticRegression</label><div class=\"sk-toggleable__content\"><pre>LogisticRegression()</pre></div></div></div></div></div>"
            ]
          },
          "metadata": {},
          "execution_count": 66
        }
      ]
    },
    {
      "cell_type": "code",
      "source": [
        "#accuracy on test data\n",
        "lr_y_test_prediction=lr.predict(X_test)\n",
        "lr_test_data_accuracy=accuracy_score(lr_y_test_prediction,y_test)\n",
        "print(\"Accuracy on test data:\",lr_test_data_accuracy)\n",
        "print(\"--------------------------------------------------------------------------------------------------------------------------------------\")\n",
        "print(\"Confusion Matrix for test data:\\n\",confusion_matrix(y_test,lr_y_test_prediction))\n",
        "print(\"--------------------------------------------------------------------------------------------------------------------------------------\")\n",
        "print(\"Classification Report:\\n|\",classification_report(lr_y_test_prediction,y_test))\n",
        "print(\"--------------------------------------------------------------------------------------------------------------------------------------\")\n"
      ],
      "metadata": {
        "colab": {
          "base_uri": "https://localhost:8080/"
        },
        "id": "eqhCYDQj3L2r",
        "outputId": "4773d541-8bfa-413b-f131-9d605ae07418"
      },
      "execution_count": 67,
      "outputs": [
        {
          "output_type": "stream",
          "name": "stdout",
          "text": [
            "Accuracy on test data: 0.5704697986577181\n",
            "--------------------------------------------------------------------------------------------------------------------------------------\n",
            "Confusion Matrix for test data:\n",
            " [[ 2  1  0  0  0  1  0  3  0  0  2  3]\n",
            " [ 1  7  0  3  0  2  0  0  0  0  1  0]\n",
            " [ 0  0  1  0  0  0  0  0  0  0  0  0]\n",
            " [ 0  0  0  9  1  1  0  0  0  0  2  4]\n",
            " [ 1  1  0  1 11  2  0  1  0  0  0  2]\n",
            " [ 0  0  0  3  1 15  0  2  0  0  1  1]\n",
            " [ 2  0  0  0  1  1  0  0  0  0  0  0]\n",
            " [ 0  2  0  3  2  0  0 19  0  0  1  1]\n",
            " [ 0  0  0  0  0  1  0  0  0  0  1  1]\n",
            " [ 0  0  0  1  0  1  0  0  0  0  0  0]\n",
            " [ 0  1  0  0  0  1  0  0  0  0 11  0]\n",
            " [ 0  0  0  0  1  1  0  1  0  0  0 10]]\n",
            "--------------------------------------------------------------------------------------------------------------------------------------\n",
            "Classification Report:\n",
            "|               precision    recall  f1-score   support\n",
            "\n",
            "           0       0.17      0.33      0.22         6\n",
            "           1       0.50      0.58      0.54        12\n",
            "           2       1.00      1.00      1.00         1\n",
            "           3       0.53      0.45      0.49        20\n",
            "           5       0.58      0.65      0.61        17\n",
            "           6       0.65      0.58      0.61        26\n",
            "           7       0.00      0.00      0.00         0\n",
            "           8       0.68      0.73      0.70        26\n",
            "           9       0.00      0.00      0.00         0\n",
            "          10       0.00      0.00      0.00         0\n",
            "          11       0.85      0.58      0.69        19\n",
            "          12       0.77      0.45      0.57        22\n",
            "\n",
            "    accuracy                           0.57       149\n",
            "   macro avg       0.48      0.45      0.45       149\n",
            "weighted avg       0.64      0.57      0.60       149\n",
            "\n",
            "--------------------------------------------------------------------------------------------------------------------------------------\n"
          ]
        },
        {
          "output_type": "stream",
          "name": "stderr",
          "text": [
            "/usr/local/lib/python3.10/dist-packages/sklearn/metrics/_classification.py:1344: UndefinedMetricWarning: Recall and F-score are ill-defined and being set to 0.0 in labels with no true samples. Use `zero_division` parameter to control this behavior.\n",
            "  _warn_prf(average, modifier, msg_start, len(result))\n",
            "/usr/local/lib/python3.10/dist-packages/sklearn/metrics/_classification.py:1344: UndefinedMetricWarning: Recall and F-score are ill-defined and being set to 0.0 in labels with no true samples. Use `zero_division` parameter to control this behavior.\n",
            "  _warn_prf(average, modifier, msg_start, len(result))\n",
            "/usr/local/lib/python3.10/dist-packages/sklearn/metrics/_classification.py:1344: UndefinedMetricWarning: Recall and F-score are ill-defined and being set to 0.0 in labels with no true samples. Use `zero_division` parameter to control this behavior.\n",
            "  _warn_prf(average, modifier, msg_start, len(result))\n"
          ]
        }
      ]
    },
    {
      "cell_type": "code",
      "source": [
        "#accuracy on training data\n",
        "lr_y_train_prediction=lr.predict(X_train)\n",
        "lr_training_data_accuracy=accuracy_score(lr_y_train_prediction,y_train)\n",
        "print(\"Accuracy on training data:\",lr_training_data_accuracy)\n",
        "print(\"--------------------------------------------------------------------------------------------------------------------------------------\")\n",
        "print(\"Confusion Matrix for training data:\\n\",confusion_matrix(y_train,lr_y_train_prediction))\n",
        "print(\"--------------------------------------------------------------------------------------------------------------------------------------\")\n",
        "print(\"Classification Report:\\n\",classification_report(lr_y_train_prediction,y_train))\n",
        "print(\"--------------------------------------------------------------------------------------------------------------------------------------\")\n"
      ],
      "metadata": {
        "colab": {
          "base_uri": "https://localhost:8080/"
        },
        "id": "MQG751WQ2skw",
        "outputId": "e6f3892c-cfb1-4bff-90f0-f36fca868893"
      },
      "execution_count": 68,
      "outputs": [
        {
          "output_type": "stream",
          "name": "stdout",
          "text": [
            "Accuracy on training data: 0.5673400673400674\n",
            "--------------------------------------------------------------------------------------------------------------------------------------\n",
            "Confusion Matrix for training data:\n",
            " [[25  9  0  8  0  8  9  0  8  0  0  8 11]\n",
            " [ 2 38  0  1  0  4  5  0  4  0  0  3  4]\n",
            " [ 1  1  5  2  0  0  1  0  0  0  0  2  0]\n",
            " [ 1  2  0 39  0  3  6  0  1  0  0  6  6]\n",
            " [ 2  1  0  0  0  2  1  0  0  0  0  0  0]\n",
            " [ 0  4  0  5  0 48  3  0  3  0  0  3  7]\n",
            " [ 0  2  0  8  0  3 62  0  4  0  0  2  5]\n",
            " [ 2  1  0  3  0  0  0  0  1  0  0  0  1]\n",
            " [ 1  5  0  4  0  2  4  0 27  0  0  2  2]\n",
            " [ 2  0  0  1  0  0  2  0  0  0  0  1  1]\n",
            " [ 1  1  0  0  0  0  0  0  0  0  0  0  1]\n",
            " [ 0  4  0  2  0  2  5  0  2  0  0 43 11]\n",
            " [ 0  4  0  2  0  6  3  0  3  0  0  4 50]]\n",
            "--------------------------------------------------------------------------------------------------------------------------------------\n",
            "Classification Report:\n",
            "               precision    recall  f1-score   support\n",
            "\n",
            "           0       0.29      0.68      0.41        37\n",
            "           1       0.62      0.53      0.57        72\n",
            "           2       0.42      1.00      0.59         5\n",
            "           3       0.61      0.52      0.56        75\n",
            "           4       0.00      0.00      0.00         0\n",
            "           5       0.66      0.62      0.64        78\n",
            "           6       0.72      0.61      0.66       101\n",
            "           7       0.00      0.00      0.00         0\n",
            "           8       0.57      0.51      0.54        53\n",
            "           9       0.00      0.00      0.00         0\n",
            "          10       0.00      0.00      0.00         0\n",
            "          11       0.62      0.58      0.60        74\n",
            "          12       0.69      0.51      0.58        99\n",
            "\n",
            "    accuracy                           0.57       594\n",
            "   macro avg       0.40      0.43      0.40       594\n",
            "weighted avg       0.63      0.57      0.59       594\n",
            "\n",
            "--------------------------------------------------------------------------------------------------------------------------------------\n"
          ]
        },
        {
          "output_type": "stream",
          "name": "stderr",
          "text": [
            "/usr/local/lib/python3.10/dist-packages/sklearn/metrics/_classification.py:1344: UndefinedMetricWarning: Recall and F-score are ill-defined and being set to 0.0 in labels with no true samples. Use `zero_division` parameter to control this behavior.\n",
            "  _warn_prf(average, modifier, msg_start, len(result))\n",
            "/usr/local/lib/python3.10/dist-packages/sklearn/metrics/_classification.py:1344: UndefinedMetricWarning: Recall and F-score are ill-defined and being set to 0.0 in labels with no true samples. Use `zero_division` parameter to control this behavior.\n",
            "  _warn_prf(average, modifier, msg_start, len(result))\n",
            "/usr/local/lib/python3.10/dist-packages/sklearn/metrics/_classification.py:1344: UndefinedMetricWarning: Recall and F-score are ill-defined and being set to 0.0 in labels with no true samples. Use `zero_division` parameter to control this behavior.\n",
            "  _warn_prf(average, modifier, msg_start, len(result))\n"
          ]
        }
      ]
    },
    {
      "cell_type": "markdown",
      "source": [
        "***Random Forest Classifier***"
      ],
      "metadata": {
        "id": "hG1PXTUF6eQ0"
      }
    },
    {
      "cell_type": "code",
      "source": [
        "#creating the model\n",
        "from sklearn.ensemble import RandomForestClassifier\n",
        "classifier=RandomForestClassifier(n_estimators=50)\n",
        "classifier.fit(X_train,y_train)"
      ],
      "metadata": {
        "id": "DZUnfjyt5PPR",
        "colab": {
          "base_uri": "https://localhost:8080/",
          "height": 74
        },
        "outputId": "fef5fea9-6824-4e86-dc6a-2539f4223ff6"
      },
      "execution_count": 69,
      "outputs": [
        {
          "output_type": "execute_result",
          "data": {
            "text/plain": [
              "RandomForestClassifier(n_estimators=50)"
            ],
            "text/html": [
              "<style>#sk-container-id-7 {color: black;background-color: white;}#sk-container-id-7 pre{padding: 0;}#sk-container-id-7 div.sk-toggleable {background-color: white;}#sk-container-id-7 label.sk-toggleable__label {cursor: pointer;display: block;width: 100%;margin-bottom: 0;padding: 0.3em;box-sizing: border-box;text-align: center;}#sk-container-id-7 label.sk-toggleable__label-arrow:before {content: \"▸\";float: left;margin-right: 0.25em;color: #696969;}#sk-container-id-7 label.sk-toggleable__label-arrow:hover:before {color: black;}#sk-container-id-7 div.sk-estimator:hover label.sk-toggleable__label-arrow:before {color: black;}#sk-container-id-7 div.sk-toggleable__content {max-height: 0;max-width: 0;overflow: hidden;text-align: left;background-color: #f0f8ff;}#sk-container-id-7 div.sk-toggleable__content pre {margin: 0.2em;color: black;border-radius: 0.25em;background-color: #f0f8ff;}#sk-container-id-7 input.sk-toggleable__control:checked~div.sk-toggleable__content {max-height: 200px;max-width: 100%;overflow: auto;}#sk-container-id-7 input.sk-toggleable__control:checked~label.sk-toggleable__label-arrow:before {content: \"▾\";}#sk-container-id-7 div.sk-estimator input.sk-toggleable__control:checked~label.sk-toggleable__label {background-color: #d4ebff;}#sk-container-id-7 div.sk-label input.sk-toggleable__control:checked~label.sk-toggleable__label {background-color: #d4ebff;}#sk-container-id-7 input.sk-hidden--visually {border: 0;clip: rect(1px 1px 1px 1px);clip: rect(1px, 1px, 1px, 1px);height: 1px;margin: -1px;overflow: hidden;padding: 0;position: absolute;width: 1px;}#sk-container-id-7 div.sk-estimator {font-family: monospace;background-color: #f0f8ff;border: 1px dotted black;border-radius: 0.25em;box-sizing: border-box;margin-bottom: 0.5em;}#sk-container-id-7 div.sk-estimator:hover {background-color: #d4ebff;}#sk-container-id-7 div.sk-parallel-item::after {content: \"\";width: 100%;border-bottom: 1px solid gray;flex-grow: 1;}#sk-container-id-7 div.sk-label:hover label.sk-toggleable__label {background-color: #d4ebff;}#sk-container-id-7 div.sk-serial::before {content: \"\";position: absolute;border-left: 1px solid gray;box-sizing: border-box;top: 0;bottom: 0;left: 50%;z-index: 0;}#sk-container-id-7 div.sk-serial {display: flex;flex-direction: column;align-items: center;background-color: white;padding-right: 0.2em;padding-left: 0.2em;position: relative;}#sk-container-id-7 div.sk-item {position: relative;z-index: 1;}#sk-container-id-7 div.sk-parallel {display: flex;align-items: stretch;justify-content: center;background-color: white;position: relative;}#sk-container-id-7 div.sk-item::before, #sk-container-id-7 div.sk-parallel-item::before {content: \"\";position: absolute;border-left: 1px solid gray;box-sizing: border-box;top: 0;bottom: 0;left: 50%;z-index: -1;}#sk-container-id-7 div.sk-parallel-item {display: flex;flex-direction: column;z-index: 1;position: relative;background-color: white;}#sk-container-id-7 div.sk-parallel-item:first-child::after {align-self: flex-end;width: 50%;}#sk-container-id-7 div.sk-parallel-item:last-child::after {align-self: flex-start;width: 50%;}#sk-container-id-7 div.sk-parallel-item:only-child::after {width: 0;}#sk-container-id-7 div.sk-dashed-wrapped {border: 1px dashed gray;margin: 0 0.4em 0.5em 0.4em;box-sizing: border-box;padding-bottom: 0.4em;background-color: white;}#sk-container-id-7 div.sk-label label {font-family: monospace;font-weight: bold;display: inline-block;line-height: 1.2em;}#sk-container-id-7 div.sk-label-container {text-align: center;}#sk-container-id-7 div.sk-container {/* jupyter's `normalize.less` sets `[hidden] { display: none; }` but bootstrap.min.css set `[hidden] { display: none !important; }` so we also need the `!important` here to be able to override the default hidden behavior on the sphinx rendered scikit-learn.org. See: https://github.com/scikit-learn/scikit-learn/issues/21755 */display: inline-block !important;position: relative;}#sk-container-id-7 div.sk-text-repr-fallback {display: none;}</style><div id=\"sk-container-id-7\" class=\"sk-top-container\"><div class=\"sk-text-repr-fallback\"><pre>RandomForestClassifier(n_estimators=50)</pre><b>In a Jupyter environment, please rerun this cell to show the HTML representation or trust the notebook. <br />On GitHub, the HTML representation is unable to render, please try loading this page with nbviewer.org.</b></div><div class=\"sk-container\" hidden><div class=\"sk-item\"><div class=\"sk-estimator sk-toggleable\"><input class=\"sk-toggleable__control sk-hidden--visually\" id=\"sk-estimator-id-7\" type=\"checkbox\" checked><label for=\"sk-estimator-id-7\" class=\"sk-toggleable__label sk-toggleable__label-arrow\">RandomForestClassifier</label><div class=\"sk-toggleable__content\"><pre>RandomForestClassifier(n_estimators=50)</pre></div></div></div></div></div>"
            ]
          },
          "metadata": {},
          "execution_count": 69
        }
      ]
    },
    {
      "cell_type": "code",
      "source": [
        "#accuracy on training data\n",
        "rfc_y_train_prediction=classifier.predict(X_train)\n",
        "rfc_training_data_accuracy=accuracy_score(rfc_y_train_prediction,y_train)\n",
        "print(\"Accuracy on training data:\",rfc_training_data_accuracy)\n",
        "print(\"--------------------------------------------------------------------------------------------------------------------------------------\")\n",
        "print(\"Confusion Matrix for training data:\\n\",confusion_matrix(y_train,rfc_y_train_prediction))\n",
        "print(\"--------------------------------------------------------------------------------------------------------------------------------------\")\n",
        "print(\"Classification Report:\\n\",classification_report(rfc_y_train_prediction,y_train))\n",
        "print(\"--------------------------------------------------------------------------------------------------------------------------------------\")\n",
        "\n"
      ],
      "metadata": {
        "colab": {
          "base_uri": "https://localhost:8080/"
        },
        "id": "pyc381_RY87y",
        "outputId": "be344574-c828-4254-a6b0-1df5fab6b5a0"
      },
      "execution_count": 70,
      "outputs": [
        {
          "output_type": "stream",
          "name": "stdout",
          "text": [
            "Accuracy on training data: 1.0\n",
            "--------------------------------------------------------------------------------------------------------------------------------------\n",
            "Confusion Matrix for training data:\n",
            " [[86  0  0  0  0  0  0  0  0  0  0  0  0]\n",
            " [ 0 61  0  0  0  0  0  0  0  0  0  0  0]\n",
            " [ 0  0 12  0  0  0  0  0  0  0  0  0  0]\n",
            " [ 0  0  0 64  0  0  0  0  0  0  0  0  0]\n",
            " [ 0  0  0  0  6  0  0  0  0  0  0  0  0]\n",
            " [ 0  0  0  0  0 73  0  0  0  0  0  0  0]\n",
            " [ 0  0  0  0  0  0 86  0  0  0  0  0  0]\n",
            " [ 0  0  0  0  0  0  0  8  0  0  0  0  0]\n",
            " [ 0  0  0  0  0  0  0  0 47  0  0  0  0]\n",
            " [ 0  0  0  0  0  0  0  0  0  7  0  0  0]\n",
            " [ 0  0  0  0  0  0  0  0  0  0  3  0  0]\n",
            " [ 0  0  0  0  0  0  0  0  0  0  0 69  0]\n",
            " [ 0  0  0  0  0  0  0  0  0  0  0  0 72]]\n",
            "--------------------------------------------------------------------------------------------------------------------------------------\n",
            "Classification Report:\n",
            "               precision    recall  f1-score   support\n",
            "\n",
            "           0       1.00      1.00      1.00        86\n",
            "           1       1.00      1.00      1.00        61\n",
            "           2       1.00      1.00      1.00        12\n",
            "           3       1.00      1.00      1.00        64\n",
            "           4       1.00      1.00      1.00         6\n",
            "           5       1.00      1.00      1.00        73\n",
            "           6       1.00      1.00      1.00        86\n",
            "           7       1.00      1.00      1.00         8\n",
            "           8       1.00      1.00      1.00        47\n",
            "           9       1.00      1.00      1.00         7\n",
            "          10       1.00      1.00      1.00         3\n",
            "          11       1.00      1.00      1.00        69\n",
            "          12       1.00      1.00      1.00        72\n",
            "\n",
            "    accuracy                           1.00       594\n",
            "   macro avg       1.00      1.00      1.00       594\n",
            "weighted avg       1.00      1.00      1.00       594\n",
            "\n",
            "--------------------------------------------------------------------------------------------------------------------------------------\n"
          ]
        }
      ]
    },
    {
      "cell_type": "code",
      "source": [
        "#accuracy on test data\n",
        "rfc_y_test_prediction=classifier.predict(X_test)\n",
        "rfc_test_data_accuracy=accuracy_score(rfc_y_test_prediction,y_test)\n",
        "print(\"Accuracy on test data:\",rfc_test_data_accuracy)\n",
        "print(\"--------------------------------------------------------------------------------------------------------------------------------------\")\n",
        "print(\"Confusion Matrix for test data:\\n\",confusion_matrix(y_test,rfc_y_test_prediction))\n",
        "print(\"--------------------------------------------------------------------------------------------------------------------------------------\")\n",
        "print(\"Classification Report:\\n\",classification_report(rfc_y_test_prediction,y_test))\n",
        "print(\"--------------------------------------------------------------------------------------------------------------------------------------\")\n"
      ],
      "metadata": {
        "colab": {
          "base_uri": "https://localhost:8080/"
        },
        "id": "7f-We6IEdY1c",
        "outputId": "2c41d80e-ff13-4d57-9fc7-6b6d78b0604d"
      },
      "execution_count": 71,
      "outputs": [
        {
          "output_type": "stream",
          "name": "stdout",
          "text": [
            "Accuracy on test data: 0.9530201342281879\n",
            "--------------------------------------------------------------------------------------------------------------------------------------\n",
            "Confusion Matrix for test data:\n",
            " [[12  0  0  0  0  0  0  0  0  0  0  0]\n",
            " [ 0 14  0  0  0  0  0  0  0  0  0  0]\n",
            " [ 0  0  1  0  0  0  0  0  0  0  0  0]\n",
            " [ 0  0  0 17  0  0  0  0  0  0  0  0]\n",
            " [ 1  0  0  0 18  0  0  0  0  0  0  0]\n",
            " [ 0  0  0  0  0 23  0  0  0  0  0  0]\n",
            " [ 2  0  0  0  0  0  2  0  0  0  0  0]\n",
            " [ 1  0  0  0  0  0  0 26  0  0  0  1]\n",
            " [ 0  0  0  0  0  0  0  0  3  0  0  0]\n",
            " [ 2  0  0  0  0  0  0  0  0  0  0  0]\n",
            " [ 0  0  0  0  0  0  0  0  0  0 13  0]\n",
            " [ 0  0  0  0  0  0  0  0  0  0  0 13]]\n",
            "--------------------------------------------------------------------------------------------------------------------------------------\n",
            "Classification Report:\n",
            "               precision    recall  f1-score   support\n",
            "\n",
            "           0       1.00      0.67      0.80        18\n",
            "           1       1.00      1.00      1.00        14\n",
            "           2       1.00      1.00      1.00         1\n",
            "           3       1.00      1.00      1.00        17\n",
            "           5       0.95      1.00      0.97        18\n",
            "           6       1.00      1.00      1.00        23\n",
            "           7       0.50      1.00      0.67         2\n",
            "           8       0.93      1.00      0.96        26\n",
            "           9       1.00      1.00      1.00         3\n",
            "          10       0.00      0.00      0.00         0\n",
            "          11       1.00      1.00      1.00        13\n",
            "          12       1.00      0.93      0.96        14\n",
            "\n",
            "    accuracy                           0.95       149\n",
            "   macro avg       0.86      0.88      0.86       149\n",
            "weighted avg       0.97      0.95      0.96       149\n",
            "\n",
            "--------------------------------------------------------------------------------------------------------------------------------------\n"
          ]
        },
        {
          "output_type": "stream",
          "name": "stderr",
          "text": [
            "/usr/local/lib/python3.10/dist-packages/sklearn/metrics/_classification.py:1344: UndefinedMetricWarning: Recall and F-score are ill-defined and being set to 0.0 in labels with no true samples. Use `zero_division` parameter to control this behavior.\n",
            "  _warn_prf(average, modifier, msg_start, len(result))\n",
            "/usr/local/lib/python3.10/dist-packages/sklearn/metrics/_classification.py:1344: UndefinedMetricWarning: Recall and F-score are ill-defined and being set to 0.0 in labels with no true samples. Use `zero_division` parameter to control this behavior.\n",
            "  _warn_prf(average, modifier, msg_start, len(result))\n",
            "/usr/local/lib/python3.10/dist-packages/sklearn/metrics/_classification.py:1344: UndefinedMetricWarning: Recall and F-score are ill-defined and being set to 0.0 in labels with no true samples. Use `zero_division` parameter to control this behavior.\n",
            "  _warn_prf(average, modifier, msg_start, len(result))\n"
          ]
        }
      ]
    },
    {
      "cell_type": "markdown",
      "source": [
        "***Support Vector Mahine/classifier(SVM/SVC)***"
      ],
      "metadata": {
        "id": "H_1STTJWfsEU"
      }
    },
    {
      "cell_type": "code",
      "source": [
        "#creating the model\n",
        "from sklearn.svm import SVC\n",
        "svc=SVC()\n",
        "svc.fit(X_train,y_train)"
      ],
      "metadata": {
        "colab": {
          "base_uri": "https://localhost:8080/",
          "height": 74
        },
        "id": "7U3IvVH_eJWb",
        "outputId": "0b728de6-f8e9-4dd4-84da-170114cb2145"
      },
      "execution_count": 72,
      "outputs": [
        {
          "output_type": "execute_result",
          "data": {
            "text/plain": [
              "SVC()"
            ],
            "text/html": [
              "<style>#sk-container-id-8 {color: black;background-color: white;}#sk-container-id-8 pre{padding: 0;}#sk-container-id-8 div.sk-toggleable {background-color: white;}#sk-container-id-8 label.sk-toggleable__label {cursor: pointer;display: block;width: 100%;margin-bottom: 0;padding: 0.3em;box-sizing: border-box;text-align: center;}#sk-container-id-8 label.sk-toggleable__label-arrow:before {content: \"▸\";float: left;margin-right: 0.25em;color: #696969;}#sk-container-id-8 label.sk-toggleable__label-arrow:hover:before {color: black;}#sk-container-id-8 div.sk-estimator:hover label.sk-toggleable__label-arrow:before {color: black;}#sk-container-id-8 div.sk-toggleable__content {max-height: 0;max-width: 0;overflow: hidden;text-align: left;background-color: #f0f8ff;}#sk-container-id-8 div.sk-toggleable__content pre {margin: 0.2em;color: black;border-radius: 0.25em;background-color: #f0f8ff;}#sk-container-id-8 input.sk-toggleable__control:checked~div.sk-toggleable__content {max-height: 200px;max-width: 100%;overflow: auto;}#sk-container-id-8 input.sk-toggleable__control:checked~label.sk-toggleable__label-arrow:before {content: \"▾\";}#sk-container-id-8 div.sk-estimator input.sk-toggleable__control:checked~label.sk-toggleable__label {background-color: #d4ebff;}#sk-container-id-8 div.sk-label input.sk-toggleable__control:checked~label.sk-toggleable__label {background-color: #d4ebff;}#sk-container-id-8 input.sk-hidden--visually {border: 0;clip: rect(1px 1px 1px 1px);clip: rect(1px, 1px, 1px, 1px);height: 1px;margin: -1px;overflow: hidden;padding: 0;position: absolute;width: 1px;}#sk-container-id-8 div.sk-estimator {font-family: monospace;background-color: #f0f8ff;border: 1px dotted black;border-radius: 0.25em;box-sizing: border-box;margin-bottom: 0.5em;}#sk-container-id-8 div.sk-estimator:hover {background-color: #d4ebff;}#sk-container-id-8 div.sk-parallel-item::after {content: \"\";width: 100%;border-bottom: 1px solid gray;flex-grow: 1;}#sk-container-id-8 div.sk-label:hover label.sk-toggleable__label {background-color: #d4ebff;}#sk-container-id-8 div.sk-serial::before {content: \"\";position: absolute;border-left: 1px solid gray;box-sizing: border-box;top: 0;bottom: 0;left: 50%;z-index: 0;}#sk-container-id-8 div.sk-serial {display: flex;flex-direction: column;align-items: center;background-color: white;padding-right: 0.2em;padding-left: 0.2em;position: relative;}#sk-container-id-8 div.sk-item {position: relative;z-index: 1;}#sk-container-id-8 div.sk-parallel {display: flex;align-items: stretch;justify-content: center;background-color: white;position: relative;}#sk-container-id-8 div.sk-item::before, #sk-container-id-8 div.sk-parallel-item::before {content: \"\";position: absolute;border-left: 1px solid gray;box-sizing: border-box;top: 0;bottom: 0;left: 50%;z-index: -1;}#sk-container-id-8 div.sk-parallel-item {display: flex;flex-direction: column;z-index: 1;position: relative;background-color: white;}#sk-container-id-8 div.sk-parallel-item:first-child::after {align-self: flex-end;width: 50%;}#sk-container-id-8 div.sk-parallel-item:last-child::after {align-self: flex-start;width: 50%;}#sk-container-id-8 div.sk-parallel-item:only-child::after {width: 0;}#sk-container-id-8 div.sk-dashed-wrapped {border: 1px dashed gray;margin: 0 0.4em 0.5em 0.4em;box-sizing: border-box;padding-bottom: 0.4em;background-color: white;}#sk-container-id-8 div.sk-label label {font-family: monospace;font-weight: bold;display: inline-block;line-height: 1.2em;}#sk-container-id-8 div.sk-label-container {text-align: center;}#sk-container-id-8 div.sk-container {/* jupyter's `normalize.less` sets `[hidden] { display: none; }` but bootstrap.min.css set `[hidden] { display: none !important; }` so we also need the `!important` here to be able to override the default hidden behavior on the sphinx rendered scikit-learn.org. See: https://github.com/scikit-learn/scikit-learn/issues/21755 */display: inline-block !important;position: relative;}#sk-container-id-8 div.sk-text-repr-fallback {display: none;}</style><div id=\"sk-container-id-8\" class=\"sk-top-container\"><div class=\"sk-text-repr-fallback\"><pre>SVC()</pre><b>In a Jupyter environment, please rerun this cell to show the HTML representation or trust the notebook. <br />On GitHub, the HTML representation is unable to render, please try loading this page with nbviewer.org.</b></div><div class=\"sk-container\" hidden><div class=\"sk-item\"><div class=\"sk-estimator sk-toggleable\"><input class=\"sk-toggleable__control sk-hidden--visually\" id=\"sk-estimator-id-8\" type=\"checkbox\" checked><label for=\"sk-estimator-id-8\" class=\"sk-toggleable__label sk-toggleable__label-arrow\">SVC</label><div class=\"sk-toggleable__content\"><pre>SVC()</pre></div></div></div></div></div>"
            ]
          },
          "metadata": {},
          "execution_count": 72
        }
      ]
    },
    {
      "cell_type": "code",
      "source": [
        "#accuracy on training data\n",
        "svc_y_train_prediction=svc.predict(X_train)\n",
        "svc_training_data_accuracy=accuracy_score(svc_y_train_prediction,y_train)\n",
        "print(\"Accuracy on training data:\",svc_training_data_accuracy)\n",
        "print(\"--------------------------------------------------------------------------------------------------------------------------------------\")\n",
        "print(\"Confusion Matrix for training data:\\n\",confusion_matrix(y_train,svc_y_train_prediction))\n",
        "print(\"--------------------------------------------------------------------------------------------------------------------------------------\")\n",
        "print(\"Classification Report:\\n\",classification_report(svc_y_train_prediction,y_train))\n",
        "print(\"--------------------------------------------------------------------------------------------------------------------------------------\")\n"
      ],
      "metadata": {
        "colab": {
          "base_uri": "https://localhost:8080/"
        },
        "id": "xECEF9H3gPCv",
        "outputId": "aa3cc35a-f2e9-45d3-f95e-6ea0bca5a03a"
      },
      "execution_count": 73,
      "outputs": [
        {
          "output_type": "stream",
          "name": "stdout",
          "text": [
            "Accuracy on training data: 0.1734006734006734\n",
            "--------------------------------------------------------------------------------------------------------------------------------------\n",
            "Confusion Matrix for training data:\n",
            " [[17  0  0  0  0  0 69  0  0  0  0  0  0]\n",
            " [ 7  0  0  0  0  0 54  0  0  0  0  0  0]\n",
            " [ 0  0  0  0  0  0 12  0  0  0  0  0  0]\n",
            " [ 7  0  0  0  0  0 57  0  0  0  0  0  0]\n",
            " [ 1  0  0  0  0  0  5  0  0  0  0  0  0]\n",
            " [ 8  0  0  0  0  0 64  0  0  0  0  1  0]\n",
            " [ 2  0  0  0  0  0 83  0  0  0  0  1  0]\n",
            " [ 0  0  0  0  0  0  8  0  0  0  0  0  0]\n",
            " [ 6  0  0  0  0  0 41  0  0  0  0  0  0]\n",
            " [ 1  0  0  0  0  0  6  0  0  0  0  0  0]\n",
            " [ 0  0  0  0  0  0  3  0  0  0  0  0  0]\n",
            " [11  0  0  0  0  0 55  0  0  0  0  3  0]\n",
            " [ 9  0  0  0  0  0 62  0  0  0  0  1  0]]\n",
            "--------------------------------------------------------------------------------------------------------------------------------------\n",
            "Classification Report:\n",
            "               precision    recall  f1-score   support\n",
            "\n",
            "           0       0.20      0.25      0.22        69\n",
            "           1       0.00      0.00      0.00         0\n",
            "           2       0.00      0.00      0.00         0\n",
            "           3       0.00      0.00      0.00         0\n",
            "           4       0.00      0.00      0.00         0\n",
            "           5       0.00      0.00      0.00         0\n",
            "           6       0.97      0.16      0.27       519\n",
            "           7       0.00      0.00      0.00         0\n",
            "           8       0.00      0.00      0.00         0\n",
            "           9       0.00      0.00      0.00         0\n",
            "          10       0.00      0.00      0.00         0\n",
            "          11       0.04      0.50      0.08         6\n",
            "          12       0.00      0.00      0.00         0\n",
            "\n",
            "    accuracy                           0.17       594\n",
            "   macro avg       0.09      0.07      0.04       594\n",
            "weighted avg       0.87      0.17      0.27       594\n",
            "\n",
            "--------------------------------------------------------------------------------------------------------------------------------------\n"
          ]
        },
        {
          "output_type": "stream",
          "name": "stderr",
          "text": [
            "/usr/local/lib/python3.10/dist-packages/sklearn/metrics/_classification.py:1344: UndefinedMetricWarning: Recall and F-score are ill-defined and being set to 0.0 in labels with no true samples. Use `zero_division` parameter to control this behavior.\n",
            "  _warn_prf(average, modifier, msg_start, len(result))\n",
            "/usr/local/lib/python3.10/dist-packages/sklearn/metrics/_classification.py:1344: UndefinedMetricWarning: Recall and F-score are ill-defined and being set to 0.0 in labels with no true samples. Use `zero_division` parameter to control this behavior.\n",
            "  _warn_prf(average, modifier, msg_start, len(result))\n",
            "/usr/local/lib/python3.10/dist-packages/sklearn/metrics/_classification.py:1344: UndefinedMetricWarning: Recall and F-score are ill-defined and being set to 0.0 in labels with no true samples. Use `zero_division` parameter to control this behavior.\n",
            "  _warn_prf(average, modifier, msg_start, len(result))\n"
          ]
        }
      ]
    },
    {
      "cell_type": "code",
      "source": [
        "#accuracy on test data\n",
        "svc_y_test_prediction=svc.predict(X_test)\n",
        "svc_test_data_accuracy=accuracy_score(svc_y_test_prediction,y_test)\n",
        "print(\"Accuracy on test data:\",svc_test_data_accuracy)\n",
        "print(\"--------------------------------------------------------------------------------------------------------------------------------------\")\n",
        "print(\"Confusion Matrix for test data:\\n\",confusion_matrix(y_test,svc_y_test_prediction))\n",
        "print(\"--------------------------------------------------------------------------------------------------------------------------------------\")\n",
        "print(\"Classification Report:\\n\",classification_report(svc_y_test_prediction,y_test))\n",
        "print(\"--------------------------------------------------------------------------------------------------------------------------------------\")\n"
      ],
      "metadata": {
        "colab": {
          "base_uri": "https://localhost:8080/"
        },
        "id": "msfQaIpQgdy2",
        "outputId": "2f98a344-c8a3-4ace-c313-a0a2759a925c"
      },
      "execution_count": 74,
      "outputs": [
        {
          "output_type": "stream",
          "name": "stdout",
          "text": [
            "Accuracy on test data: 0.14093959731543623\n",
            "--------------------------------------------------------------------------------------------------------------------------------------\n",
            "Confusion Matrix for test data:\n",
            " [[ 0  0  0  0  0 12  0  0  0  0  0  0]\n",
            " [ 3  0  0  0  0 11  0  0  0  0  0  0]\n",
            " [ 0  0  0  0  0  1  0  0  0  0  0  0]\n",
            " [ 2  0  0  0  0 15  0  0  0  0  0  0]\n",
            " [ 5  0  0  0  0 14  0  0  0  0  0  0]\n",
            " [ 2  0  0  0  0 21  0  0  0  0  0  0]\n",
            " [ 0  0  0  0  0  4  0  0  0  0  0  0]\n",
            " [ 5  0  0  0  0 23  0  0  0  0  0  0]\n",
            " [ 0  0  0  0  0  3  0  0  0  0  0  0]\n",
            " [ 0  0  0  0  0  2  0  0  0  0  0  0]\n",
            " [ 3  0  0  0  0 10  0  0  0  0  0  0]\n",
            " [ 2  0  0  0  0 11  0  0  0  0  0  0]]\n",
            "--------------------------------------------------------------------------------------------------------------------------------------\n",
            "Classification Report:\n",
            "               precision    recall  f1-score   support\n",
            "\n",
            "           0       0.00      0.00      0.00        22\n",
            "           1       0.00      0.00      0.00         0\n",
            "           2       0.00      0.00      0.00         0\n",
            "           3       0.00      0.00      0.00         0\n",
            "           5       0.00      0.00      0.00         0\n",
            "           6       0.91      0.17      0.28       127\n",
            "           7       0.00      0.00      0.00         0\n",
            "           8       0.00      0.00      0.00         0\n",
            "           9       0.00      0.00      0.00         0\n",
            "          10       0.00      0.00      0.00         0\n",
            "          11       0.00      0.00      0.00         0\n",
            "          12       0.00      0.00      0.00         0\n",
            "\n",
            "    accuracy                           0.14       149\n",
            "   macro avg       0.08      0.01      0.02       149\n",
            "weighted avg       0.78      0.14      0.24       149\n",
            "\n",
            "--------------------------------------------------------------------------------------------------------------------------------------\n"
          ]
        },
        {
          "output_type": "stream",
          "name": "stderr",
          "text": [
            "/usr/local/lib/python3.10/dist-packages/sklearn/metrics/_classification.py:1344: UndefinedMetricWarning: Recall and F-score are ill-defined and being set to 0.0 in labels with no true samples. Use `zero_division` parameter to control this behavior.\n",
            "  _warn_prf(average, modifier, msg_start, len(result))\n",
            "/usr/local/lib/python3.10/dist-packages/sklearn/metrics/_classification.py:1344: UndefinedMetricWarning: Recall and F-score are ill-defined and being set to 0.0 in labels with no true samples. Use `zero_division` parameter to control this behavior.\n",
            "  _warn_prf(average, modifier, msg_start, len(result))\n",
            "/usr/local/lib/python3.10/dist-packages/sklearn/metrics/_classification.py:1344: UndefinedMetricWarning: Recall and F-score are ill-defined and being set to 0.0 in labels with no true samples. Use `zero_division` parameter to control this behavior.\n",
            "  _warn_prf(average, modifier, msg_start, len(result))\n"
          ]
        }
      ]
    },
    {
      "cell_type": "markdown",
      "source": [
        "***Decision Tree Classifier***"
      ],
      "metadata": {
        "id": "oD54wxCMg-N3"
      }
    },
    {
      "cell_type": "code",
      "source": [
        "#creating the model\n",
        "from sklearn.tree import DecisionTreeClassifier\n",
        "dtree=DecisionTreeClassifier()\n",
        "dtree.fit(X_train,y_train)\n"
      ],
      "metadata": {
        "colab": {
          "base_uri": "https://localhost:8080/",
          "height": 74
        },
        "id": "sU2iHs7fgqC8",
        "outputId": "962176d0-0bb5-4a4b-9db7-11767d1259f9"
      },
      "execution_count": 75,
      "outputs": [
        {
          "output_type": "execute_result",
          "data": {
            "text/plain": [
              "DecisionTreeClassifier()"
            ],
            "text/html": [
              "<style>#sk-container-id-9 {color: black;background-color: white;}#sk-container-id-9 pre{padding: 0;}#sk-container-id-9 div.sk-toggleable {background-color: white;}#sk-container-id-9 label.sk-toggleable__label {cursor: pointer;display: block;width: 100%;margin-bottom: 0;padding: 0.3em;box-sizing: border-box;text-align: center;}#sk-container-id-9 label.sk-toggleable__label-arrow:before {content: \"▸\";float: left;margin-right: 0.25em;color: #696969;}#sk-container-id-9 label.sk-toggleable__label-arrow:hover:before {color: black;}#sk-container-id-9 div.sk-estimator:hover label.sk-toggleable__label-arrow:before {color: black;}#sk-container-id-9 div.sk-toggleable__content {max-height: 0;max-width: 0;overflow: hidden;text-align: left;background-color: #f0f8ff;}#sk-container-id-9 div.sk-toggleable__content pre {margin: 0.2em;color: black;border-radius: 0.25em;background-color: #f0f8ff;}#sk-container-id-9 input.sk-toggleable__control:checked~div.sk-toggleable__content {max-height: 200px;max-width: 100%;overflow: auto;}#sk-container-id-9 input.sk-toggleable__control:checked~label.sk-toggleable__label-arrow:before {content: \"▾\";}#sk-container-id-9 div.sk-estimator input.sk-toggleable__control:checked~label.sk-toggleable__label {background-color: #d4ebff;}#sk-container-id-9 div.sk-label input.sk-toggleable__control:checked~label.sk-toggleable__label {background-color: #d4ebff;}#sk-container-id-9 input.sk-hidden--visually {border: 0;clip: rect(1px 1px 1px 1px);clip: rect(1px, 1px, 1px, 1px);height: 1px;margin: -1px;overflow: hidden;padding: 0;position: absolute;width: 1px;}#sk-container-id-9 div.sk-estimator {font-family: monospace;background-color: #f0f8ff;border: 1px dotted black;border-radius: 0.25em;box-sizing: border-box;margin-bottom: 0.5em;}#sk-container-id-9 div.sk-estimator:hover {background-color: #d4ebff;}#sk-container-id-9 div.sk-parallel-item::after {content: \"\";width: 100%;border-bottom: 1px solid gray;flex-grow: 1;}#sk-container-id-9 div.sk-label:hover label.sk-toggleable__label {background-color: #d4ebff;}#sk-container-id-9 div.sk-serial::before {content: \"\";position: absolute;border-left: 1px solid gray;box-sizing: border-box;top: 0;bottom: 0;left: 50%;z-index: 0;}#sk-container-id-9 div.sk-serial {display: flex;flex-direction: column;align-items: center;background-color: white;padding-right: 0.2em;padding-left: 0.2em;position: relative;}#sk-container-id-9 div.sk-item {position: relative;z-index: 1;}#sk-container-id-9 div.sk-parallel {display: flex;align-items: stretch;justify-content: center;background-color: white;position: relative;}#sk-container-id-9 div.sk-item::before, #sk-container-id-9 div.sk-parallel-item::before {content: \"\";position: absolute;border-left: 1px solid gray;box-sizing: border-box;top: 0;bottom: 0;left: 50%;z-index: -1;}#sk-container-id-9 div.sk-parallel-item {display: flex;flex-direction: column;z-index: 1;position: relative;background-color: white;}#sk-container-id-9 div.sk-parallel-item:first-child::after {align-self: flex-end;width: 50%;}#sk-container-id-9 div.sk-parallel-item:last-child::after {align-self: flex-start;width: 50%;}#sk-container-id-9 div.sk-parallel-item:only-child::after {width: 0;}#sk-container-id-9 div.sk-dashed-wrapped {border: 1px dashed gray;margin: 0 0.4em 0.5em 0.4em;box-sizing: border-box;padding-bottom: 0.4em;background-color: white;}#sk-container-id-9 div.sk-label label {font-family: monospace;font-weight: bold;display: inline-block;line-height: 1.2em;}#sk-container-id-9 div.sk-label-container {text-align: center;}#sk-container-id-9 div.sk-container {/* jupyter's `normalize.less` sets `[hidden] { display: none; }` but bootstrap.min.css set `[hidden] { display: none !important; }` so we also need the `!important` here to be able to override the default hidden behavior on the sphinx rendered scikit-learn.org. See: https://github.com/scikit-learn/scikit-learn/issues/21755 */display: inline-block !important;position: relative;}#sk-container-id-9 div.sk-text-repr-fallback {display: none;}</style><div id=\"sk-container-id-9\" class=\"sk-top-container\"><div class=\"sk-text-repr-fallback\"><pre>DecisionTreeClassifier()</pre><b>In a Jupyter environment, please rerun this cell to show the HTML representation or trust the notebook. <br />On GitHub, the HTML representation is unable to render, please try loading this page with nbviewer.org.</b></div><div class=\"sk-container\" hidden><div class=\"sk-item\"><div class=\"sk-estimator sk-toggleable\"><input class=\"sk-toggleable__control sk-hidden--visually\" id=\"sk-estimator-id-9\" type=\"checkbox\" checked><label for=\"sk-estimator-id-9\" class=\"sk-toggleable__label sk-toggleable__label-arrow\">DecisionTreeClassifier</label><div class=\"sk-toggleable__content\"><pre>DecisionTreeClassifier()</pre></div></div></div></div></div>"
            ]
          },
          "metadata": {},
          "execution_count": 75
        }
      ]
    },
    {
      "cell_type": "code",
      "source": [
        "#accuracy on training data\n",
        "dtree_y_train_prediction=svc.predict(X_train)\n",
        "dtree_training_data_accuracy=accuracy_score(dtree_y_train_prediction,y_train)\n",
        "print(\"Accuracy on training data:\",dtree_training_data_accuracy)\n",
        "print(\"--------------------------------------------------------------------------------------------------------------------------------------\")\n",
        "print(\"Confusion Matrix for training data:\\n\",confusion_matrix(y_train,dtree_y_train_prediction))\n",
        "print(\"--------------------------------------------------------------------------------------------------------------------------------------\")\n",
        "print(\"Classification Report:\\n\",classification_report(dtree_y_train_prediction,y_train))\n",
        "print(\"--------------------------------------------------------------------------------------------------------------------------------------\")\n"
      ],
      "metadata": {
        "colab": {
          "base_uri": "https://localhost:8080/"
        },
        "id": "DGHy85ZrhTiY",
        "outputId": "d2b3ad6b-21fd-4d53-9a0a-608be445d52a"
      },
      "execution_count": 76,
      "outputs": [
        {
          "output_type": "stream",
          "name": "stdout",
          "text": [
            "Accuracy on training data: 0.1734006734006734\n",
            "--------------------------------------------------------------------------------------------------------------------------------------\n",
            "Confusion Matrix for training data:\n",
            " [[17  0  0  0  0  0 69  0  0  0  0  0  0]\n",
            " [ 7  0  0  0  0  0 54  0  0  0  0  0  0]\n",
            " [ 0  0  0  0  0  0 12  0  0  0  0  0  0]\n",
            " [ 7  0  0  0  0  0 57  0  0  0  0  0  0]\n",
            " [ 1  0  0  0  0  0  5  0  0  0  0  0  0]\n",
            " [ 8  0  0  0  0  0 64  0  0  0  0  1  0]\n",
            " [ 2  0  0  0  0  0 83  0  0  0  0  1  0]\n",
            " [ 0  0  0  0  0  0  8  0  0  0  0  0  0]\n",
            " [ 6  0  0  0  0  0 41  0  0  0  0  0  0]\n",
            " [ 1  0  0  0  0  0  6  0  0  0  0  0  0]\n",
            " [ 0  0  0  0  0  0  3  0  0  0  0  0  0]\n",
            " [11  0  0  0  0  0 55  0  0  0  0  3  0]\n",
            " [ 9  0  0  0  0  0 62  0  0  0  0  1  0]]\n",
            "--------------------------------------------------------------------------------------------------------------------------------------\n",
            "Classification Report:\n",
            "               precision    recall  f1-score   support\n",
            "\n",
            "           0       0.20      0.25      0.22        69\n",
            "           1       0.00      0.00      0.00         0\n",
            "           2       0.00      0.00      0.00         0\n",
            "           3       0.00      0.00      0.00         0\n",
            "           4       0.00      0.00      0.00         0\n",
            "           5       0.00      0.00      0.00         0\n",
            "           6       0.97      0.16      0.27       519\n",
            "           7       0.00      0.00      0.00         0\n",
            "           8       0.00      0.00      0.00         0\n",
            "           9       0.00      0.00      0.00         0\n",
            "          10       0.00      0.00      0.00         0\n",
            "          11       0.04      0.50      0.08         6\n",
            "          12       0.00      0.00      0.00         0\n",
            "\n",
            "    accuracy                           0.17       594\n",
            "   macro avg       0.09      0.07      0.04       594\n",
            "weighted avg       0.87      0.17      0.27       594\n",
            "\n",
            "--------------------------------------------------------------------------------------------------------------------------------------\n"
          ]
        },
        {
          "output_type": "stream",
          "name": "stderr",
          "text": [
            "/usr/local/lib/python3.10/dist-packages/sklearn/metrics/_classification.py:1344: UndefinedMetricWarning: Recall and F-score are ill-defined and being set to 0.0 in labels with no true samples. Use `zero_division` parameter to control this behavior.\n",
            "  _warn_prf(average, modifier, msg_start, len(result))\n",
            "/usr/local/lib/python3.10/dist-packages/sklearn/metrics/_classification.py:1344: UndefinedMetricWarning: Recall and F-score are ill-defined and being set to 0.0 in labels with no true samples. Use `zero_division` parameter to control this behavior.\n",
            "  _warn_prf(average, modifier, msg_start, len(result))\n",
            "/usr/local/lib/python3.10/dist-packages/sklearn/metrics/_classification.py:1344: UndefinedMetricWarning: Recall and F-score are ill-defined and being set to 0.0 in labels with no true samples. Use `zero_division` parameter to control this behavior.\n",
            "  _warn_prf(average, modifier, msg_start, len(result))\n"
          ]
        }
      ]
    },
    {
      "cell_type": "code",
      "source": [
        "#accuracy on test data\n",
        "dtree_y_test_prediction=svc.predict(X_test)\n",
        "dtree_test_data_accuracy=accuracy_score(dtree_y_test_prediction,y_test)\n",
        "print(\"Accuracy on test data:\",dtree_test_data_accuracy)\n",
        "print(\"--------------------------------------------------------------------------------------------------------------------------------------\")\n",
        "print(\"Confusion Matrix for test data:\\n\",confusion_matrix(y_test,dtree_y_test_prediction))\n",
        "print(\"--------------------------------------------------------------------------------------------------------------------------------------\")\n",
        "print(\"Classification Report:\\n\",classification_report(dtree_y_test_prediction,y_test))\n",
        "print(\"--------------------------------------------------------------------------------------------------------------------------------------\")\n"
      ],
      "metadata": {
        "colab": {
          "base_uri": "https://localhost:8080/"
        },
        "id": "v9wJDXJthYvM",
        "outputId": "833779b6-3ebd-4b14-ad01-47f47d2b1864"
      },
      "execution_count": 77,
      "outputs": [
        {
          "output_type": "stream",
          "name": "stdout",
          "text": [
            "Accuracy on test data: 0.14093959731543623\n",
            "--------------------------------------------------------------------------------------------------------------------------------------\n",
            "Confusion Matrix for test data:\n",
            " [[ 0  0  0  0  0 12  0  0  0  0  0  0]\n",
            " [ 3  0  0  0  0 11  0  0  0  0  0  0]\n",
            " [ 0  0  0  0  0  1  0  0  0  0  0  0]\n",
            " [ 2  0  0  0  0 15  0  0  0  0  0  0]\n",
            " [ 5  0  0  0  0 14  0  0  0  0  0  0]\n",
            " [ 2  0  0  0  0 21  0  0  0  0  0  0]\n",
            " [ 0  0  0  0  0  4  0  0  0  0  0  0]\n",
            " [ 5  0  0  0  0 23  0  0  0  0  0  0]\n",
            " [ 0  0  0  0  0  3  0  0  0  0  0  0]\n",
            " [ 0  0  0  0  0  2  0  0  0  0  0  0]\n",
            " [ 3  0  0  0  0 10  0  0  0  0  0  0]\n",
            " [ 2  0  0  0  0 11  0  0  0  0  0  0]]\n",
            "--------------------------------------------------------------------------------------------------------------------------------------\n",
            "Classification Report:\n",
            "               precision    recall  f1-score   support\n",
            "\n",
            "           0       0.00      0.00      0.00        22\n",
            "           1       0.00      0.00      0.00         0\n",
            "           2       0.00      0.00      0.00         0\n",
            "           3       0.00      0.00      0.00         0\n",
            "           5       0.00      0.00      0.00         0\n",
            "           6       0.91      0.17      0.28       127\n",
            "           7       0.00      0.00      0.00         0\n",
            "           8       0.00      0.00      0.00         0\n",
            "           9       0.00      0.00      0.00         0\n",
            "          10       0.00      0.00      0.00         0\n",
            "          11       0.00      0.00      0.00         0\n",
            "          12       0.00      0.00      0.00         0\n",
            "\n",
            "    accuracy                           0.14       149\n",
            "   macro avg       0.08      0.01      0.02       149\n",
            "weighted avg       0.78      0.14      0.24       149\n",
            "\n",
            "--------------------------------------------------------------------------------------------------------------------------------------\n"
          ]
        },
        {
          "output_type": "stream",
          "name": "stderr",
          "text": [
            "/usr/local/lib/python3.10/dist-packages/sklearn/metrics/_classification.py:1344: UndefinedMetricWarning: Recall and F-score are ill-defined and being set to 0.0 in labels with no true samples. Use `zero_division` parameter to control this behavior.\n",
            "  _warn_prf(average, modifier, msg_start, len(result))\n",
            "/usr/local/lib/python3.10/dist-packages/sklearn/metrics/_classification.py:1344: UndefinedMetricWarning: Recall and F-score are ill-defined and being set to 0.0 in labels with no true samples. Use `zero_division` parameter to control this behavior.\n",
            "  _warn_prf(average, modifier, msg_start, len(result))\n",
            "/usr/local/lib/python3.10/dist-packages/sklearn/metrics/_classification.py:1344: UndefinedMetricWarning: Recall and F-score are ill-defined and being set to 0.0 in labels with no true samples. Use `zero_division` parameter to control this behavior.\n",
            "  _warn_prf(average, modifier, msg_start, len(result))\n"
          ]
        }
      ]
    },
    {
      "cell_type": "markdown",
      "source": [
        "***K Ni=earest Neighbour***"
      ],
      "metadata": {
        "id": "yaLTZP78SAFZ"
      }
    },
    {
      "cell_type": "code",
      "source": [
        "from sklearn.neighbors import KNeighborsClassifier\n",
        "knn=KNeighborsClassifier(n_neighbors=5)\n",
        "knn.fit(X_train,y_train)"
      ],
      "metadata": {
        "id": "9oyoPXyghpvF",
        "colab": {
          "base_uri": "https://localhost:8080/",
          "height": 74
        },
        "outputId": "f8aa2ca2-4cfe-4a18-8bf7-9b7fe3dcee50"
      },
      "execution_count": 78,
      "outputs": [
        {
          "output_type": "execute_result",
          "data": {
            "text/plain": [
              "KNeighborsClassifier()"
            ],
            "text/html": [
              "<style>#sk-container-id-10 {color: black;background-color: white;}#sk-container-id-10 pre{padding: 0;}#sk-container-id-10 div.sk-toggleable {background-color: white;}#sk-container-id-10 label.sk-toggleable__label {cursor: pointer;display: block;width: 100%;margin-bottom: 0;padding: 0.3em;box-sizing: border-box;text-align: center;}#sk-container-id-10 label.sk-toggleable__label-arrow:before {content: \"▸\";float: left;margin-right: 0.25em;color: #696969;}#sk-container-id-10 label.sk-toggleable__label-arrow:hover:before {color: black;}#sk-container-id-10 div.sk-estimator:hover label.sk-toggleable__label-arrow:before {color: black;}#sk-container-id-10 div.sk-toggleable__content {max-height: 0;max-width: 0;overflow: hidden;text-align: left;background-color: #f0f8ff;}#sk-container-id-10 div.sk-toggleable__content pre {margin: 0.2em;color: black;border-radius: 0.25em;background-color: #f0f8ff;}#sk-container-id-10 input.sk-toggleable__control:checked~div.sk-toggleable__content {max-height: 200px;max-width: 100%;overflow: auto;}#sk-container-id-10 input.sk-toggleable__control:checked~label.sk-toggleable__label-arrow:before {content: \"▾\";}#sk-container-id-10 div.sk-estimator input.sk-toggleable__control:checked~label.sk-toggleable__label {background-color: #d4ebff;}#sk-container-id-10 div.sk-label input.sk-toggleable__control:checked~label.sk-toggleable__label {background-color: #d4ebff;}#sk-container-id-10 input.sk-hidden--visually {border: 0;clip: rect(1px 1px 1px 1px);clip: rect(1px, 1px, 1px, 1px);height: 1px;margin: -1px;overflow: hidden;padding: 0;position: absolute;width: 1px;}#sk-container-id-10 div.sk-estimator {font-family: monospace;background-color: #f0f8ff;border: 1px dotted black;border-radius: 0.25em;box-sizing: border-box;margin-bottom: 0.5em;}#sk-container-id-10 div.sk-estimator:hover {background-color: #d4ebff;}#sk-container-id-10 div.sk-parallel-item::after {content: \"\";width: 100%;border-bottom: 1px solid gray;flex-grow: 1;}#sk-container-id-10 div.sk-label:hover label.sk-toggleable__label {background-color: #d4ebff;}#sk-container-id-10 div.sk-serial::before {content: \"\";position: absolute;border-left: 1px solid gray;box-sizing: border-box;top: 0;bottom: 0;left: 50%;z-index: 0;}#sk-container-id-10 div.sk-serial {display: flex;flex-direction: column;align-items: center;background-color: white;padding-right: 0.2em;padding-left: 0.2em;position: relative;}#sk-container-id-10 div.sk-item {position: relative;z-index: 1;}#sk-container-id-10 div.sk-parallel {display: flex;align-items: stretch;justify-content: center;background-color: white;position: relative;}#sk-container-id-10 div.sk-item::before, #sk-container-id-10 div.sk-parallel-item::before {content: \"\";position: absolute;border-left: 1px solid gray;box-sizing: border-box;top: 0;bottom: 0;left: 50%;z-index: -1;}#sk-container-id-10 div.sk-parallel-item {display: flex;flex-direction: column;z-index: 1;position: relative;background-color: white;}#sk-container-id-10 div.sk-parallel-item:first-child::after {align-self: flex-end;width: 50%;}#sk-container-id-10 div.sk-parallel-item:last-child::after {align-self: flex-start;width: 50%;}#sk-container-id-10 div.sk-parallel-item:only-child::after {width: 0;}#sk-container-id-10 div.sk-dashed-wrapped {border: 1px dashed gray;margin: 0 0.4em 0.5em 0.4em;box-sizing: border-box;padding-bottom: 0.4em;background-color: white;}#sk-container-id-10 div.sk-label label {font-family: monospace;font-weight: bold;display: inline-block;line-height: 1.2em;}#sk-container-id-10 div.sk-label-container {text-align: center;}#sk-container-id-10 div.sk-container {/* jupyter's `normalize.less` sets `[hidden] { display: none; }` but bootstrap.min.css set `[hidden] { display: none !important; }` so we also need the `!important` here to be able to override the default hidden behavior on the sphinx rendered scikit-learn.org. See: https://github.com/scikit-learn/scikit-learn/issues/21755 */display: inline-block !important;position: relative;}#sk-container-id-10 div.sk-text-repr-fallback {display: none;}</style><div id=\"sk-container-id-10\" class=\"sk-top-container\"><div class=\"sk-text-repr-fallback\"><pre>KNeighborsClassifier()</pre><b>In a Jupyter environment, please rerun this cell to show the HTML representation or trust the notebook. <br />On GitHub, the HTML representation is unable to render, please try loading this page with nbviewer.org.</b></div><div class=\"sk-container\" hidden><div class=\"sk-item\"><div class=\"sk-estimator sk-toggleable\"><input class=\"sk-toggleable__control sk-hidden--visually\" id=\"sk-estimator-id-10\" type=\"checkbox\" checked><label for=\"sk-estimator-id-10\" class=\"sk-toggleable__label sk-toggleable__label-arrow\">KNeighborsClassifier</label><div class=\"sk-toggleable__content\"><pre>KNeighborsClassifier()</pre></div></div></div></div></div>"
            ]
          },
          "metadata": {},
          "execution_count": 78
        }
      ]
    },
    {
      "cell_type": "code",
      "source": [
        "#accuracy on training data\n",
        "knn_y_train_prediction=knn.predict(X_train)\n",
        "knn_training_data_accuracy=accuracy_score(knn_y_train_prediction,y_train)\n",
        "print(\"Accuracy on training data:\",knn_training_data_accuracy)\n",
        "print(\"--------------------------------------------------------------------------------------------------------------------------------------\")\n",
        "print(\"Confusion Matrix for training data:\\n\",confusion_matrix(y_train,knn_y_train_prediction))\n",
        "print(\"--------------------------------------------------------------------------------------------------------------------------------------\")\n",
        "print(\"Classification Report:\\n\",classification_report(knn_y_train_prediction,y_train))\n",
        "print(\"--------------------------------------------------------------------------------------------------------------------------------------\")\n"
      ],
      "metadata": {
        "colab": {
          "base_uri": "https://localhost:8080/"
        },
        "id": "UMtC--i6SNNZ",
        "outputId": "547447f6-6ff2-4fcf-a22e-0194ab8cbaf2"
      },
      "execution_count": 79,
      "outputs": [
        {
          "output_type": "stream",
          "name": "stdout",
          "text": [
            "Accuracy on training data: 0.7407407407407407\n",
            "--------------------------------------------------------------------------------------------------------------------------------------\n",
            "Confusion Matrix for training data:\n",
            " [[76  0  0  1  0  1  2  0  2  0  0  1  3]\n",
            " [ 9 48  0  0  0  1  1  0  0  0  0  1  1]\n",
            " [ 3  1  8  0  0  0  0  0  0  0  0  0  0]\n",
            " [12  0  0 47  0  2  1  0  0  0  0  1  1]\n",
            " [ 2  0  0  0  4  0  0  0  0  0  0  0  0]\n",
            " [14  2  0  0  0 51  2  0  0  0  0  2  2]\n",
            " [14  2  0  1  0  0 68  0  0  0  0  1  0]\n",
            " [ 5  1  0  0  0  0  1  0  0  0  0  1  0]\n",
            " [ 6  1  0  3  0  0  4  0 32  0  0  1  0]\n",
            " [ 4  1  0  0  0  0  1  0  1  0  0  0  0]\n",
            " [ 2  0  0  0  0  0  0  0  0  0  0  0  1]\n",
            " [11  0  0  0  0  0  2  0  1  0  0 55  0]\n",
            " [14  1  0  2  0  1  1  0  1  0  0  1 51]]\n",
            "--------------------------------------------------------------------------------------------------------------------------------------\n",
            "Classification Report:\n",
            "               precision    recall  f1-score   support\n",
            "\n",
            "           0       0.88      0.44      0.59       172\n",
            "           1       0.79      0.84      0.81        57\n",
            "           2       0.67      1.00      0.80         8\n",
            "           3       0.73      0.87      0.80        54\n",
            "           4       0.67      1.00      0.80         4\n",
            "           5       0.70      0.91      0.79        56\n",
            "           6       0.79      0.82      0.80        83\n",
            "           7       0.00      0.00      0.00         0\n",
            "           8       0.68      0.86      0.76        37\n",
            "           9       0.00      0.00      0.00         0\n",
            "          10       0.00      0.00      0.00         0\n",
            "          11       0.80      0.86      0.83        64\n",
            "          12       0.71      0.86      0.78        59\n",
            "\n",
            "    accuracy                           0.74       594\n",
            "   macro avg       0.57      0.65      0.60       594\n",
            "weighted avg       0.79      0.74      0.74       594\n",
            "\n",
            "--------------------------------------------------------------------------------------------------------------------------------------\n"
          ]
        },
        {
          "output_type": "stream",
          "name": "stderr",
          "text": [
            "/usr/local/lib/python3.10/dist-packages/sklearn/metrics/_classification.py:1344: UndefinedMetricWarning: Recall and F-score are ill-defined and being set to 0.0 in labels with no true samples. Use `zero_division` parameter to control this behavior.\n",
            "  _warn_prf(average, modifier, msg_start, len(result))\n",
            "/usr/local/lib/python3.10/dist-packages/sklearn/metrics/_classification.py:1344: UndefinedMetricWarning: Recall and F-score are ill-defined and being set to 0.0 in labels with no true samples. Use `zero_division` parameter to control this behavior.\n",
            "  _warn_prf(average, modifier, msg_start, len(result))\n",
            "/usr/local/lib/python3.10/dist-packages/sklearn/metrics/_classification.py:1344: UndefinedMetricWarning: Recall and F-score are ill-defined and being set to 0.0 in labels with no true samples. Use `zero_division` parameter to control this behavior.\n",
            "  _warn_prf(average, modifier, msg_start, len(result))\n"
          ]
        }
      ]
    },
    {
      "cell_type": "code",
      "source": [
        "#accuracy on test data\n",
        "knn_y_test_prediction=knn.predict(X_test)\n",
        "knn_test_data_accuracy=accuracy_score(knn_y_test_prediction,y_test)\n",
        "print(\"Accuracy on test data:\",knn_test_data_accuracy)\n",
        "print(\"--------------------------------------------------------------------------------------------------------------------------------------\")\n",
        "print(\"Confusion Matrix for test data:\\n\",confusion_matrix(y_test,knn_y_test_prediction))\n",
        "print(\"--------------------------------------------------------------------------------------------------------------------------------------\")\n",
        "print(\"Classification Report:\\n\",classification_report(knn_y_test_prediction,y_test))\n",
        "print(\"--------------------------------------------------------------------------------------------------------------------------------------\")\n"
      ],
      "metadata": {
        "colab": {
          "base_uri": "https://localhost:8080/"
        },
        "id": "4xJ5K1-8Srqq",
        "outputId": "0318c694-a4d8-4e37-bbda-c72822f4b829"
      },
      "execution_count": 80,
      "outputs": [
        {
          "output_type": "stream",
          "name": "stdout",
          "text": [
            "Accuracy on test data: 0.5771812080536913\n",
            "--------------------------------------------------------------------------------------------------------------------------------------\n",
            "Confusion Matrix for test data:\n",
            " [[ 8  1  0  0  1  1  0  0  0  0  0  1]\n",
            " [ 7  5  0  0  0  0  0  1  0  0  0  1]\n",
            " [ 0  0  1  0  0  0  0  0  0  0  0  0]\n",
            " [ 1  0  0 11  1  2  0  1  0  0  1  0]\n",
            " [ 5  0  0  0 12  1  0  1  0  0  0  0]\n",
            " [ 4  0  0  1  0 18  0  0  0  0  0  0]\n",
            " [ 2  0  0  0  1  0  1  0  0  0  0  0]\n",
            " [11  0  0  0  0  0  0 17  0  0  0  0]\n",
            " [ 1  0  0  1  0  1  0  0  0  0  0  0]\n",
            " [ 1  0  0  0  0  1  0  0  0  0  0  0]\n",
            " [ 4  0  0  1  0  0  0  0  0  0  7  1]\n",
            " [ 7  0  0  0  0  0  0  0  0  0  0  6]]\n",
            "--------------------------------------------------------------------------------------------------------------------------------------\n",
            "Classification Report:\n",
            "               precision    recall  f1-score   support\n",
            "\n",
            "           0       0.67      0.16      0.25        51\n",
            "           1       0.36      0.83      0.50         6\n",
            "           2       1.00      1.00      1.00         1\n",
            "           3       0.65      0.79      0.71        14\n",
            "           5       0.63      0.80      0.71        15\n",
            "           6       0.78      0.75      0.77        24\n",
            "           7       0.25      1.00      0.40         1\n",
            "           8       0.61      0.85      0.71        20\n",
            "           9       0.00      0.00      0.00         0\n",
            "          10       0.00      0.00      0.00         0\n",
            "          11       0.54      0.88      0.67         8\n",
            "          12       0.46      0.67      0.55         9\n",
            "\n",
            "    accuracy                           0.58       149\n",
            "   macro avg       0.50      0.64      0.52       149\n",
            "weighted avg       0.64      0.58      0.54       149\n",
            "\n",
            "--------------------------------------------------------------------------------------------------------------------------------------\n"
          ]
        },
        {
          "output_type": "stream",
          "name": "stderr",
          "text": [
            "/usr/local/lib/python3.10/dist-packages/sklearn/metrics/_classification.py:1344: UndefinedMetricWarning: Recall and F-score are ill-defined and being set to 0.0 in labels with no true samples. Use `zero_division` parameter to control this behavior.\n",
            "  _warn_prf(average, modifier, msg_start, len(result))\n",
            "/usr/local/lib/python3.10/dist-packages/sklearn/metrics/_classification.py:1344: UndefinedMetricWarning: Recall and F-score are ill-defined and being set to 0.0 in labels with no true samples. Use `zero_division` parameter to control this behavior.\n",
            "  _warn_prf(average, modifier, msg_start, len(result))\n",
            "/usr/local/lib/python3.10/dist-packages/sklearn/metrics/_classification.py:1344: UndefinedMetricWarning: Recall and F-score are ill-defined and being set to 0.0 in labels with no true samples. Use `zero_division` parameter to control this behavior.\n",
            "  _warn_prf(average, modifier, msg_start, len(result))\n"
          ]
        }
      ]
    },
    {
      "cell_type": "code",
      "source": [
        "plt.figure(figsize=(8, 5))\n",
        "plt.bar(lr_training_data_accuracy, lr_test_data_accuracy, color='yellow')\n",
        "\n",
        "plt.title('Accuracy Scores')\n",
        "plt.xlabel('Models')\n",
        "plt.ylabel('accuracy')\n",
        "plt.ylim(0, 10)\n",
        "plt.xlim(0,10) # Set the y-axis limits if desired\n",
        "\n",
        "plt.show()"
      ],
      "metadata": {
        "id": "EIHAbsdGTJP2",
        "colab": {
          "base_uri": "https://localhost:8080/",
          "height": 487
        },
        "outputId": "a6b24998-43ab-41aa-c793-7aebeb7f051b"
      },
      "execution_count": 86,
      "outputs": [
        {
          "output_type": "display_data",
          "data": {
            "text/plain": [
              "<Figure size 800x500 with 1 Axes>"
            ],
            "image/png": "[encoded data removed]"
          },
          "metadata": {}
        }
      ]
    },
    {
      "cell_type": "code",
      "source": [],
      "metadata": {
        "id": "dNhXXbxaucLW"
      },
      "execution_count": 81,
      "outputs": []
    },
    {
      "cell_type": "code",
      "source": [],
      "metadata": {
        "id": "ioQfdHqgyMmg"
      },
      "execution_count": null,
      "outputs": []
    }
  ]
}